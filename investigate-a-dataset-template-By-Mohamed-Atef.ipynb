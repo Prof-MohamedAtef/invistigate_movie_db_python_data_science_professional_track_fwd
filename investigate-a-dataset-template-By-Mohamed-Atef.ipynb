{
 "cells": [
  {
   "cell_type": "markdown",
   "metadata": {},
   "source": [
    "# Project: Investigate a Dataset (a TMDb Movie Dataset ) by Mohamed Atef\n",
    "\n",
    "## Table of Contents\n",
    "<ul>\n",
    "<li><a href=\"#intro\">Introduction</a></li>\n",
    "<li><a href=\"#wrangling\">Data Wrangling</a></li>\n",
    "<li><a href=\"#eda\">Exploratory Data Analysis</a></li>\n",
    "<li><a href=\"#conclusions\">Conclusions</a></li>\n",
    "</ul>"
   ]
  },
  {
   "cell_type": "markdown",
   "metadata": {},
   "source": [
    "<a id='intro'></a>\n",
    "## Introduction\n",
    "\n",
    "> This data set contains information about 10,000 movies collected from The Movie Database (TMDb), including user ratings and revenue,cast,release year.\n",
    "\n",
    "> Brief Description of each column in the dataset\n",
    "\n",
    "> **1.id** - Unique id's for each row\n",
    "\n",
    "> **2.imdb_id** - System generated unique id\n",
    "\n",
    "> **3.popularity** - popularity score \n",
    "\n",
    "> **4.budget** - budget in dollars\n",
    "\n",
    "> **5.revenue** - revenue in dollars\n",
    "\n",
    "> **6.original_title** - Movie title\n",
    "\n",
    "> **7.cast** - cast performed in movie\n",
    "\n",
    "> **8.homepage** - website link of movie\n",
    "\n",
    "> **9.director** - director name\n",
    "\n",
    "> **10.tagline** - tagline of movie\n",
    "\n",
    "> **11.keywords** - words used to give significant idea\n",
    "\n",
    "> **12.overview** - general review of movie\n",
    "\n",
    "> **13.runtime** - movie duration in seconds\n",
    "\n",
    "> **14.genres** - categories of movie\n",
    "\n",
    "> **15.production_companies** - company name which manages a movie process from start to finish\n",
    "\n",
    "> **16.release_date** - movie releasing date\n",
    "\n",
    "> **17.vote_count** - votes given by viewers\n",
    "\n",
    "> **18.vote_average** - average votes given by viewers\n",
    "\n",
    "> **19.release_year** - movie releasing year\n",
    "\n",
    "> **20.budget_adj**-budget in 2010 dollars,accounting for inflation\n",
    "\n",
    "> **21.revenue_adj** -revenue in 2010 dollars,accounting for inflation\n",
    "\n",
    "**Questions that I would like to use on exploring and investigating TMDB dataset.**\n",
    "\n",
    "<ul>\n",
    "    \n",
    "<li><a href=\"#q1\">**1.What kind of  movie genres are made the most?**</a></li>\n",
    "\n",
    "<li><a href=\"#q2\">**2.Which genres are most popular from year to year?**</a></li>\n",
    "\n",
    "<li><a href=\"#q3\">**3.In which year most of the movies released?**</a></li>\n",
    "\n",
    "<li><a href=\"#q4\">**4.What kinds of properties are associated with movies that have high revenues.**</a></li>\n",
    "\n",
    "<li><a href=\"#q5\">**5. High Gross profit movies from year to year**</a></li>\n",
    "\n",
    "<li><a href=\"#q6\">**6. High Budget Movies from year to year.**</a></li>\n",
    "\n",
    "<li><a href=\"#q7\">**7.What are the months when most of the movies released?**</a></li>\n",
    "\n",
    "<li><a href=\"#q8\">**8.As per popularity score which actor / actress is most famous?**</a></li>\n",
    "\n",
    "<li><a href=\"#q9\">**9.As per popularity score which movie is most famous?**</a></li>\n",
    "\n",
    "<li><a href=\"#q10\">**10.As per Average vote score which movie is most famous?**</a></li>\n",
    "\n",
    "<li><a href=\"#q11\">**11.As per Average vote score which Actor/Actress is most famous?**</a></li>\n",
    "\n",
    "<li><a href=\"#q12\">**12.Movies which have earned highest revenue.**</a></li>\n",
    "\n",
    "<li><a href=\"#q13\">**13.Most Frequent Runtime of movies**</a></li>\n",
    "\n",
    "<li><a href=\"#q14\">**14.Most famous action directors**</a></li>\n",
    "\n",
    "<li><a href=\"#q15\">**15. Most famous Actors in Action genre.**</a></li>\n",
    "\n",
    "<li><a href=\"#q16\">**16.Which production companies have made most of the movies**</a></li>\n",
    "\n",
    "<li><a href=\"#q17\">**17.Most frequent Keywords used in every genres.**</a></li>\n",
    "\n",
    "<li><a href=\"#q18\">**18.Older or newer movies get more popularity score**</a></li>\n",
    "\n",
    "</ul>"
   ]
  },
  {
   "cell_type": "markdown",
   "metadata": {},
   "source": [
    "### Data Cleaning "
   ]
  },
  {
   "cell_type": "markdown",
   "metadata": {},
   "source": [
    "### This cell include the required imports of libraries to be used during the analysis phase"
   ]
  },
  {
   "cell_type": "code",
   "execution_count": 200,
   "metadata": {},
   "outputs": [],
   "source": [
    "import pandas as pd\n",
    "import numpy as np\n",
    "%matplotlib inline\n",
    "from matplotlib import pyplot as plt\n",
    "import seaborn as sns"
   ]
  },
  {
   "cell_type": "markdown",
   "metadata": {},
   "source": [
    "<a id='wrangling'></a>\n",
    "## Data Wrangling"
   ]
  },
  {
   "cell_type": "code",
   "execution_count": 69,
   "metadata": {
    "scrolled": false
   },
   "outputs": [
    {
     "data": {
      "text/html": [
       "<div>\n",
       "<style scoped>\n",
       "    .dataframe tbody tr th:only-of-type {\n",
       "        vertical-align: middle;\n",
       "    }\n",
       "\n",
       "    .dataframe tbody tr th {\n",
       "        vertical-align: top;\n",
       "    }\n",
       "\n",
       "    .dataframe thead th {\n",
       "        text-align: right;\n",
       "    }\n",
       "</style>\n",
       "<table border=\"1\" class=\"dataframe\">\n",
       "  <thead>\n",
       "    <tr style=\"text-align: right;\">\n",
       "      <th></th>\n",
       "      <th>id</th>\n",
       "      <th>imdb_id</th>\n",
       "      <th>popularity</th>\n",
       "      <th>budget</th>\n",
       "      <th>revenue</th>\n",
       "      <th>original_title</th>\n",
       "      <th>cast</th>\n",
       "      <th>homepage</th>\n",
       "      <th>director</th>\n",
       "      <th>tagline</th>\n",
       "      <th>...</th>\n",
       "      <th>overview</th>\n",
       "      <th>runtime</th>\n",
       "      <th>genres</th>\n",
       "      <th>production_companies</th>\n",
       "      <th>release_date</th>\n",
       "      <th>vote_count</th>\n",
       "      <th>vote_average</th>\n",
       "      <th>release_year</th>\n",
       "      <th>budget_adj</th>\n",
       "      <th>revenue_adj</th>\n",
       "    </tr>\n",
       "  </thead>\n",
       "  <tbody>\n",
       "    <tr>\n",
       "      <th>0</th>\n",
       "      <td>135397</td>\n",
       "      <td>tt0369610</td>\n",
       "      <td>32.985763</td>\n",
       "      <td>150000000</td>\n",
       "      <td>1513528810</td>\n",
       "      <td>Jurassic World</td>\n",
       "      <td>Chris Pratt|Bryce Dallas Howard|Irrfan Khan|Vi...</td>\n",
       "      <td>http://www.jurassicworld.com/</td>\n",
       "      <td>Colin Trevorrow</td>\n",
       "      <td>The park is open.</td>\n",
       "      <td>...</td>\n",
       "      <td>Twenty-two years after the events of Jurassic ...</td>\n",
       "      <td>124</td>\n",
       "      <td>Action|Adventure|Science Fiction|Thriller</td>\n",
       "      <td>Universal Studios|Amblin Entertainment|Legenda...</td>\n",
       "      <td>6/9/15</td>\n",
       "      <td>5562</td>\n",
       "      <td>6.5</td>\n",
       "      <td>2015</td>\n",
       "      <td>1.379999e+08</td>\n",
       "      <td>1.392446e+09</td>\n",
       "    </tr>\n",
       "    <tr>\n",
       "      <th>1</th>\n",
       "      <td>76341</td>\n",
       "      <td>tt1392190</td>\n",
       "      <td>28.419936</td>\n",
       "      <td>150000000</td>\n",
       "      <td>378436354</td>\n",
       "      <td>Mad Max: Fury Road</td>\n",
       "      <td>Tom Hardy|Charlize Theron|Hugh Keays-Byrne|Nic...</td>\n",
       "      <td>http://www.madmaxmovie.com/</td>\n",
       "      <td>George Miller</td>\n",
       "      <td>What a Lovely Day.</td>\n",
       "      <td>...</td>\n",
       "      <td>An apocalyptic story set in the furthest reach...</td>\n",
       "      <td>120</td>\n",
       "      <td>Action|Adventure|Science Fiction|Thriller</td>\n",
       "      <td>Village Roadshow Pictures|Kennedy Miller Produ...</td>\n",
       "      <td>5/13/15</td>\n",
       "      <td>6185</td>\n",
       "      <td>7.1</td>\n",
       "      <td>2015</td>\n",
       "      <td>1.379999e+08</td>\n",
       "      <td>3.481613e+08</td>\n",
       "    </tr>\n",
       "    <tr>\n",
       "      <th>2</th>\n",
       "      <td>262500</td>\n",
       "      <td>tt2908446</td>\n",
       "      <td>13.112507</td>\n",
       "      <td>110000000</td>\n",
       "      <td>295238201</td>\n",
       "      <td>Insurgent</td>\n",
       "      <td>Shailene Woodley|Theo James|Kate Winslet|Ansel...</td>\n",
       "      <td>http://www.thedivergentseries.movie/#insurgent</td>\n",
       "      <td>Robert Schwentke</td>\n",
       "      <td>One Choice Can Destroy You</td>\n",
       "      <td>...</td>\n",
       "      <td>Beatrice Prior must confront her inner demons ...</td>\n",
       "      <td>119</td>\n",
       "      <td>Adventure|Science Fiction|Thriller</td>\n",
       "      <td>Summit Entertainment|Mandeville Films|Red Wago...</td>\n",
       "      <td>3/18/15</td>\n",
       "      <td>2480</td>\n",
       "      <td>6.3</td>\n",
       "      <td>2015</td>\n",
       "      <td>1.012000e+08</td>\n",
       "      <td>2.716190e+08</td>\n",
       "    </tr>\n",
       "    <tr>\n",
       "      <th>3</th>\n",
       "      <td>140607</td>\n",
       "      <td>tt2488496</td>\n",
       "      <td>11.173104</td>\n",
       "      <td>200000000</td>\n",
       "      <td>2068178225</td>\n",
       "      <td>Star Wars: The Force Awakens</td>\n",
       "      <td>Harrison Ford|Mark Hamill|Carrie Fisher|Adam D...</td>\n",
       "      <td>http://www.starwars.com/films/star-wars-episod...</td>\n",
       "      <td>J.J. Abrams</td>\n",
       "      <td>Every generation has a story.</td>\n",
       "      <td>...</td>\n",
       "      <td>Thirty years after defeating the Galactic Empi...</td>\n",
       "      <td>136</td>\n",
       "      <td>Action|Adventure|Science Fiction|Fantasy</td>\n",
       "      <td>Lucasfilm|Truenorth Productions|Bad Robot</td>\n",
       "      <td>12/15/15</td>\n",
       "      <td>5292</td>\n",
       "      <td>7.5</td>\n",
       "      <td>2015</td>\n",
       "      <td>1.839999e+08</td>\n",
       "      <td>1.902723e+09</td>\n",
       "    </tr>\n",
       "    <tr>\n",
       "      <th>4</th>\n",
       "      <td>168259</td>\n",
       "      <td>tt2820852</td>\n",
       "      <td>9.335014</td>\n",
       "      <td>190000000</td>\n",
       "      <td>1506249360</td>\n",
       "      <td>Furious 7</td>\n",
       "      <td>Vin Diesel|Paul Walker|Jason Statham|Michelle ...</td>\n",
       "      <td>http://www.furious7.com/</td>\n",
       "      <td>James Wan</td>\n",
       "      <td>Vengeance Hits Home</td>\n",
       "      <td>...</td>\n",
       "      <td>Deckard Shaw seeks revenge against Dominic Tor...</td>\n",
       "      <td>137</td>\n",
       "      <td>Action|Crime|Thriller</td>\n",
       "      <td>Universal Pictures|Original Film|Media Rights ...</td>\n",
       "      <td>4/1/15</td>\n",
       "      <td>2947</td>\n",
       "      <td>7.3</td>\n",
       "      <td>2015</td>\n",
       "      <td>1.747999e+08</td>\n",
       "      <td>1.385749e+09</td>\n",
       "    </tr>\n",
       "  </tbody>\n",
       "</table>\n",
       "<p>5 rows × 21 columns</p>\n",
       "</div>"
      ],
      "text/plain": [
       "       id    imdb_id  popularity     budget     revenue  \\\n",
       "0  135397  tt0369610   32.985763  150000000  1513528810   \n",
       "1   76341  tt1392190   28.419936  150000000   378436354   \n",
       "2  262500  tt2908446   13.112507  110000000   295238201   \n",
       "3  140607  tt2488496   11.173104  200000000  2068178225   \n",
       "4  168259  tt2820852    9.335014  190000000  1506249360   \n",
       "\n",
       "                 original_title  \\\n",
       "0                Jurassic World   \n",
       "1            Mad Max: Fury Road   \n",
       "2                     Insurgent   \n",
       "3  Star Wars: The Force Awakens   \n",
       "4                     Furious 7   \n",
       "\n",
       "                                                cast  \\\n",
       "0  Chris Pratt|Bryce Dallas Howard|Irrfan Khan|Vi...   \n",
       "1  Tom Hardy|Charlize Theron|Hugh Keays-Byrne|Nic...   \n",
       "2  Shailene Woodley|Theo James|Kate Winslet|Ansel...   \n",
       "3  Harrison Ford|Mark Hamill|Carrie Fisher|Adam D...   \n",
       "4  Vin Diesel|Paul Walker|Jason Statham|Michelle ...   \n",
       "\n",
       "                                            homepage          director  \\\n",
       "0                      http://www.jurassicworld.com/   Colin Trevorrow   \n",
       "1                        http://www.madmaxmovie.com/     George Miller   \n",
       "2     http://www.thedivergentseries.movie/#insurgent  Robert Schwentke   \n",
       "3  http://www.starwars.com/films/star-wars-episod...       J.J. Abrams   \n",
       "4                           http://www.furious7.com/         James Wan   \n",
       "\n",
       "                         tagline  ...  \\\n",
       "0              The park is open.  ...   \n",
       "1             What a Lovely Day.  ...   \n",
       "2     One Choice Can Destroy You  ...   \n",
       "3  Every generation has a story.  ...   \n",
       "4            Vengeance Hits Home  ...   \n",
       "\n",
       "                                            overview runtime  \\\n",
       "0  Twenty-two years after the events of Jurassic ...     124   \n",
       "1  An apocalyptic story set in the furthest reach...     120   \n",
       "2  Beatrice Prior must confront her inner demons ...     119   \n",
       "3  Thirty years after defeating the Galactic Empi...     136   \n",
       "4  Deckard Shaw seeks revenge against Dominic Tor...     137   \n",
       "\n",
       "                                      genres  \\\n",
       "0  Action|Adventure|Science Fiction|Thriller   \n",
       "1  Action|Adventure|Science Fiction|Thriller   \n",
       "2         Adventure|Science Fiction|Thriller   \n",
       "3   Action|Adventure|Science Fiction|Fantasy   \n",
       "4                      Action|Crime|Thriller   \n",
       "\n",
       "                                production_companies release_date vote_count  \\\n",
       "0  Universal Studios|Amblin Entertainment|Legenda...       6/9/15       5562   \n",
       "1  Village Roadshow Pictures|Kennedy Miller Produ...      5/13/15       6185   \n",
       "2  Summit Entertainment|Mandeville Films|Red Wago...      3/18/15       2480   \n",
       "3          Lucasfilm|Truenorth Productions|Bad Robot     12/15/15       5292   \n",
       "4  Universal Pictures|Original Film|Media Rights ...       4/1/15       2947   \n",
       "\n",
       "   vote_average  release_year    budget_adj   revenue_adj  \n",
       "0           6.5          2015  1.379999e+08  1.392446e+09  \n",
       "1           7.1          2015  1.379999e+08  3.481613e+08  \n",
       "2           6.3          2015  1.012000e+08  2.716190e+08  \n",
       "3           7.5          2015  1.839999e+08  1.902723e+09  \n",
       "4           7.3          2015  1.747999e+08  1.385749e+09  \n",
       "\n",
       "[5 rows x 21 columns]"
      ]
     },
     "execution_count": 69,
     "metadata": {},
     "output_type": "execute_result"
    }
   ],
   "source": [
    "#Read TMDb movie csv file\n",
    "tmdb_movies = pd.read_csv('tmdb-movies-new.csv')\n",
    "tmdb_movies.head()"
   ]
  },
  {
   "cell_type": "code",
   "execution_count": 70,
   "metadata": {},
   "outputs": [
    {
     "data": {
      "text/plain": [
       "(10866, 21)"
      ]
     },
     "execution_count": 70,
     "metadata": {},
     "output_type": "execute_result"
    }
   ],
   "source": [
    "tmdb_movies.shape"
   ]
  },
  {
   "cell_type": "markdown",
   "metadata": {},
   "source": [
    "### Let's get intuition of our data by checking its types,null values,duplicates."
   ]
  },
  {
   "cell_type": "code",
   "execution_count": 71,
   "metadata": {},
   "outputs": [
    {
     "data": {
      "text/plain": [
       "id                        int64\n",
       "imdb_id                  object\n",
       "popularity              float64\n",
       "budget                    int64\n",
       "revenue                   int64\n",
       "original_title           object\n",
       "cast                     object\n",
       "homepage                 object\n",
       "director                 object\n",
       "tagline                  object\n",
       "keywords                 object\n",
       "overview                 object\n",
       "runtime                   int64\n",
       "genres                   object\n",
       "production_companies     object\n",
       "release_date             object\n",
       "vote_count                int64\n",
       "vote_average            float64\n",
       "release_year              int64\n",
       "budget_adj              float64\n",
       "revenue_adj             float64\n",
       "dtype: object"
      ]
     },
     "execution_count": 71,
     "metadata": {},
     "output_type": "execute_result"
    }
   ],
   "source": [
    "tmdb_movies.dtypes"
   ]
  },
  {
   "cell_type": "markdown",
   "metadata": {},
   "source": [
    "### We have to convert release_date column to datetime format as it is in object type."
   ]
  },
  {
   "cell_type": "code",
   "execution_count": 72,
   "metadata": {},
   "outputs": [],
   "source": [
    "tmdb_movies['release_date'] = pd.to_datetime(tmdb_movies['release_date'])"
   ]
  },
  {
   "cell_type": "markdown",
   "metadata": {},
   "source": [
    "### Assure if changes had been done as we wanted."
   ]
  },
  {
   "cell_type": "code",
   "execution_count": 73,
   "metadata": {},
   "outputs": [
    {
     "data": {
      "text/plain": [
       "id                               int64\n",
       "imdb_id                         object\n",
       "popularity                     float64\n",
       "budget                           int64\n",
       "revenue                          int64\n",
       "original_title                  object\n",
       "cast                            object\n",
       "homepage                        object\n",
       "director                        object\n",
       "tagline                         object\n",
       "keywords                        object\n",
       "overview                        object\n",
       "runtime                          int64\n",
       "genres                          object\n",
       "production_companies            object\n",
       "release_date            datetime64[ns]\n",
       "vote_count                       int64\n",
       "vote_average                   float64\n",
       "release_year                     int64\n",
       "budget_adj                     float64\n",
       "revenue_adj                    float64\n",
       "dtype: object"
      ]
     },
     "execution_count": 73,
     "metadata": {},
     "output_type": "execute_result"
    }
   ],
   "source": [
    "tmdb_movies.dtypes"
   ]
  },
  {
   "cell_type": "markdown",
   "metadata": {},
   "source": [
    "### Let's get [release month] & [weekday] from [release_date] column"
   ]
  },
  {
   "cell_type": "code",
   "execution_count": 74,
   "metadata": {},
   "outputs": [],
   "source": [
    "tmdb_movies['release_month'] = tmdb_movies['release_date'].dt.month\n",
    "tmdb_movies['release_day'] = tmdb_movies['release_date'].dt.strftime(\"%A\")"
   ]
  },
  {
   "cell_type": "markdown",
   "metadata": {},
   "source": [
    "### Let's return a description of updated dataset"
   ]
  },
  {
   "cell_type": "code",
   "execution_count": 75,
   "metadata": {},
   "outputs": [
    {
     "data": {
      "text/html": [
       "<div>\n",
       "<style scoped>\n",
       "    .dataframe tbody tr th:only-of-type {\n",
       "        vertical-align: middle;\n",
       "    }\n",
       "\n",
       "    .dataframe tbody tr th {\n",
       "        vertical-align: top;\n",
       "    }\n",
       "\n",
       "    .dataframe thead th {\n",
       "        text-align: right;\n",
       "    }\n",
       "</style>\n",
       "<table border=\"1\" class=\"dataframe\">\n",
       "  <thead>\n",
       "    <tr style=\"text-align: right;\">\n",
       "      <th></th>\n",
       "      <th>id</th>\n",
       "      <th>popularity</th>\n",
       "      <th>budget</th>\n",
       "      <th>revenue</th>\n",
       "      <th>runtime</th>\n",
       "      <th>vote_count</th>\n",
       "      <th>vote_average</th>\n",
       "      <th>release_year</th>\n",
       "      <th>budget_adj</th>\n",
       "      <th>revenue_adj</th>\n",
       "      <th>release_month</th>\n",
       "    </tr>\n",
       "  </thead>\n",
       "  <tbody>\n",
       "    <tr>\n",
       "      <th>count</th>\n",
       "      <td>10866.000000</td>\n",
       "      <td>10866.000000</td>\n",
       "      <td>1.086600e+04</td>\n",
       "      <td>1.086600e+04</td>\n",
       "      <td>10866.000000</td>\n",
       "      <td>10866.000000</td>\n",
       "      <td>10866.000000</td>\n",
       "      <td>10866.000000</td>\n",
       "      <td>1.086600e+04</td>\n",
       "      <td>1.086600e+04</td>\n",
       "      <td>10866.000000</td>\n",
       "    </tr>\n",
       "    <tr>\n",
       "      <th>mean</th>\n",
       "      <td>66064.177434</td>\n",
       "      <td>0.646441</td>\n",
       "      <td>1.462570e+07</td>\n",
       "      <td>3.982332e+07</td>\n",
       "      <td>102.070863</td>\n",
       "      <td>217.389748</td>\n",
       "      <td>5.974922</td>\n",
       "      <td>2001.322658</td>\n",
       "      <td>1.755104e+07</td>\n",
       "      <td>5.136436e+07</td>\n",
       "      <td>6.827259</td>\n",
       "    </tr>\n",
       "    <tr>\n",
       "      <th>std</th>\n",
       "      <td>92130.136561</td>\n",
       "      <td>1.000185</td>\n",
       "      <td>3.091321e+07</td>\n",
       "      <td>1.170035e+08</td>\n",
       "      <td>31.381405</td>\n",
       "      <td>575.619058</td>\n",
       "      <td>0.935142</td>\n",
       "      <td>12.812941</td>\n",
       "      <td>3.430616e+07</td>\n",
       "      <td>1.446325e+08</td>\n",
       "      <td>3.441802</td>\n",
       "    </tr>\n",
       "    <tr>\n",
       "      <th>min</th>\n",
       "      <td>5.000000</td>\n",
       "      <td>0.000065</td>\n",
       "      <td>0.000000e+00</td>\n",
       "      <td>0.000000e+00</td>\n",
       "      <td>0.000000</td>\n",
       "      <td>10.000000</td>\n",
       "      <td>1.500000</td>\n",
       "      <td>1960.000000</td>\n",
       "      <td>0.000000e+00</td>\n",
       "      <td>0.000000e+00</td>\n",
       "      <td>1.000000</td>\n",
       "    </tr>\n",
       "    <tr>\n",
       "      <th>25%</th>\n",
       "      <td>10596.250000</td>\n",
       "      <td>0.207583</td>\n",
       "      <td>0.000000e+00</td>\n",
       "      <td>0.000000e+00</td>\n",
       "      <td>90.000000</td>\n",
       "      <td>17.000000</td>\n",
       "      <td>5.400000</td>\n",
       "      <td>1995.000000</td>\n",
       "      <td>0.000000e+00</td>\n",
       "      <td>0.000000e+00</td>\n",
       "      <td>4.000000</td>\n",
       "    </tr>\n",
       "    <tr>\n",
       "      <th>50%</th>\n",
       "      <td>20669.000000</td>\n",
       "      <td>0.383856</td>\n",
       "      <td>0.000000e+00</td>\n",
       "      <td>0.000000e+00</td>\n",
       "      <td>99.000000</td>\n",
       "      <td>38.000000</td>\n",
       "      <td>6.000000</td>\n",
       "      <td>2006.000000</td>\n",
       "      <td>0.000000e+00</td>\n",
       "      <td>0.000000e+00</td>\n",
       "      <td>7.000000</td>\n",
       "    </tr>\n",
       "    <tr>\n",
       "      <th>75%</th>\n",
       "      <td>75610.000000</td>\n",
       "      <td>0.713817</td>\n",
       "      <td>1.500000e+07</td>\n",
       "      <td>2.400000e+07</td>\n",
       "      <td>111.000000</td>\n",
       "      <td>145.750000</td>\n",
       "      <td>6.600000</td>\n",
       "      <td>2011.000000</td>\n",
       "      <td>2.085325e+07</td>\n",
       "      <td>3.369710e+07</td>\n",
       "      <td>10.000000</td>\n",
       "    </tr>\n",
       "    <tr>\n",
       "      <th>max</th>\n",
       "      <td>417859.000000</td>\n",
       "      <td>32.985763</td>\n",
       "      <td>4.250000e+08</td>\n",
       "      <td>2.781506e+09</td>\n",
       "      <td>900.000000</td>\n",
       "      <td>9767.000000</td>\n",
       "      <td>9.200000</td>\n",
       "      <td>2015.000000</td>\n",
       "      <td>4.250000e+08</td>\n",
       "      <td>2.827124e+09</td>\n",
       "      <td>12.000000</td>\n",
       "    </tr>\n",
       "  </tbody>\n",
       "</table>\n",
       "</div>"
      ],
      "text/plain": [
       "                  id    popularity        budget       revenue       runtime  \\\n",
       "count   10866.000000  10866.000000  1.086600e+04  1.086600e+04  10866.000000   \n",
       "mean    66064.177434      0.646441  1.462570e+07  3.982332e+07    102.070863   \n",
       "std     92130.136561      1.000185  3.091321e+07  1.170035e+08     31.381405   \n",
       "min         5.000000      0.000065  0.000000e+00  0.000000e+00      0.000000   \n",
       "25%     10596.250000      0.207583  0.000000e+00  0.000000e+00     90.000000   \n",
       "50%     20669.000000      0.383856  0.000000e+00  0.000000e+00     99.000000   \n",
       "75%     75610.000000      0.713817  1.500000e+07  2.400000e+07    111.000000   \n",
       "max    417859.000000     32.985763  4.250000e+08  2.781506e+09    900.000000   \n",
       "\n",
       "         vote_count  vote_average  release_year    budget_adj   revenue_adj  \\\n",
       "count  10866.000000  10866.000000  10866.000000  1.086600e+04  1.086600e+04   \n",
       "mean     217.389748      5.974922   2001.322658  1.755104e+07  5.136436e+07   \n",
       "std      575.619058      0.935142     12.812941  3.430616e+07  1.446325e+08   \n",
       "min       10.000000      1.500000   1960.000000  0.000000e+00  0.000000e+00   \n",
       "25%       17.000000      5.400000   1995.000000  0.000000e+00  0.000000e+00   \n",
       "50%       38.000000      6.000000   2006.000000  0.000000e+00  0.000000e+00   \n",
       "75%      145.750000      6.600000   2011.000000  2.085325e+07  3.369710e+07   \n",
       "max     9767.000000      9.200000   2015.000000  4.250000e+08  2.827124e+09   \n",
       "\n",
       "       release_month  \n",
       "count   10866.000000  \n",
       "mean        6.827259  \n",
       "std         3.441802  \n",
       "min         1.000000  \n",
       "25%         4.000000  \n",
       "50%         7.000000  \n",
       "75%        10.000000  \n",
       "max        12.000000  "
      ]
     },
     "execution_count": 75,
     "metadata": {},
     "output_type": "execute_result"
    }
   ],
   "source": [
    "tmdb_movies.describe()"
   ]
  },
  {
   "cell_type": "markdown",
   "metadata": {},
   "source": [
    "<a id='cleaning'></a>\n",
    ">## Data Cleaning "
   ]
  },
  {
   "cell_type": "markdown",
   "metadata": {},
   "source": [
    "### Check shape of dataframe"
   ]
  },
  {
   "cell_type": "code",
   "execution_count": 76,
   "metadata": {},
   "outputs": [
    {
     "data": {
      "text/plain": [
       "(10866, 23)"
      ]
     },
     "execution_count": 76,
     "metadata": {},
     "output_type": "execute_result"
    }
   ],
   "source": [
    "tmdb_movies.shape"
   ]
  },
  {
   "cell_type": "markdown",
   "metadata": {},
   "source": [
    ">## Dropping Columns:\n",
    ">#### Month, weekday are gathered from release_date column, which  means release_date column is not required anymore as it doesn't include important data.\n",
    ">#### imdb_id column contains some system generated numbers which are not included in our needs.\n",
    ">#### Similarly homepage data is also not very useful for us."
   ]
  },
  {
   "cell_type": "code",
   "execution_count": 77,
   "metadata": {},
   "outputs": [],
   "source": [
    "tmdb_movies.drop(labels = ['imdb_id','homepage','release_date'],axis =1,inplace =True)"
   ]
  },
  {
   "cell_type": "markdown",
   "metadata": {},
   "source": [
    "### Check shap of dataframe after removing last columns"
   ]
  },
  {
   "cell_type": "code",
   "execution_count": 78,
   "metadata": {},
   "outputs": [
    {
     "data": {
      "text/plain": [
       "(10866, 20)"
      ]
     },
     "execution_count": 78,
     "metadata": {},
     "output_type": "execute_result"
    }
   ],
   "source": [
    "tmdb_movies.shape"
   ]
  },
  {
   "cell_type": "markdown",
   "metadata": {},
   "source": [
    "### Let's check if our data contains some duplicates & nan values"
   ]
  },
  {
   "cell_type": "code",
   "execution_count": 79,
   "metadata": {},
   "outputs": [
    {
     "data": {
      "text/plain": [
       "1"
      ]
     },
     "execution_count": 79,
     "metadata": {},
     "output_type": "execute_result"
    }
   ],
   "source": [
    "sum(tmdb_movies.duplicated())"
   ]
  },
  {
   "cell_type": "markdown",
   "metadata": {},
   "source": [
    "### Let's drop dublicates"
   ]
  },
  {
   "cell_type": "code",
   "execution_count": 80,
   "metadata": {},
   "outputs": [],
   "source": [
    "tmdb_movies.drop_duplicates(keep= 'first',inplace = True)"
   ]
  },
  {
   "cell_type": "markdown",
   "metadata": {},
   "source": [
    "### Let's check shape of dataframe after removing dublicates"
   ]
  },
  {
   "cell_type": "code",
   "execution_count": 81,
   "metadata": {},
   "outputs": [
    {
     "data": {
      "text/plain": [
       "(10865, 20)"
      ]
     },
     "execution_count": 81,
     "metadata": {},
     "output_type": "execute_result"
    }
   ],
   "source": [
    "tmdb_movies.shape"
   ]
  },
  {
   "cell_type": "markdown",
   "metadata": {},
   "source": [
    "#### Let's display null values in all of the dataframe"
   ]
  },
  {
   "cell_type": "code",
   "execution_count": 82,
   "metadata": {},
   "outputs": [
    {
     "data": {
      "text/html": [
       "<div>\n",
       "<style scoped>\n",
       "    .dataframe tbody tr th:only-of-type {\n",
       "        vertical-align: middle;\n",
       "    }\n",
       "\n",
       "    .dataframe tbody tr th {\n",
       "        vertical-align: top;\n",
       "    }\n",
       "\n",
       "    .dataframe thead th {\n",
       "        text-align: right;\n",
       "    }\n",
       "</style>\n",
       "<table border=\"1\" class=\"dataframe\">\n",
       "  <thead>\n",
       "    <tr style=\"text-align: right;\">\n",
       "      <th></th>\n",
       "      <th>total</th>\n",
       "      <th>percent</th>\n",
       "    </tr>\n",
       "  </thead>\n",
       "  <tbody>\n",
       "    <tr>\n",
       "      <th>tagline</th>\n",
       "      <td>2824</td>\n",
       "      <td>25.991717</td>\n",
       "    </tr>\n",
       "    <tr>\n",
       "      <th>keywords</th>\n",
       "      <td>1493</td>\n",
       "      <td>13.741371</td>\n",
       "    </tr>\n",
       "    <tr>\n",
       "      <th>production_companies</th>\n",
       "      <td>1030</td>\n",
       "      <td>9.479982</td>\n",
       "    </tr>\n",
       "    <tr>\n",
       "      <th>cast</th>\n",
       "      <td>76</td>\n",
       "      <td>0.699494</td>\n",
       "    </tr>\n",
       "    <tr>\n",
       "      <th>director</th>\n",
       "      <td>44</td>\n",
       "      <td>0.404970</td>\n",
       "    </tr>\n",
       "    <tr>\n",
       "      <th>genres</th>\n",
       "      <td>23</td>\n",
       "      <td>0.211689</td>\n",
       "    </tr>\n",
       "    <tr>\n",
       "      <th>overview</th>\n",
       "      <td>4</td>\n",
       "      <td>0.036815</td>\n",
       "    </tr>\n",
       "    <tr>\n",
       "      <th>popularity</th>\n",
       "      <td>0</td>\n",
       "      <td>0.000000</td>\n",
       "    </tr>\n",
       "    <tr>\n",
       "      <th>budget</th>\n",
       "      <td>0</td>\n",
       "      <td>0.000000</td>\n",
       "    </tr>\n",
       "    <tr>\n",
       "      <th>revenue</th>\n",
       "      <td>0</td>\n",
       "      <td>0.000000</td>\n",
       "    </tr>\n",
       "    <tr>\n",
       "      <th>original_title</th>\n",
       "      <td>0</td>\n",
       "      <td>0.000000</td>\n",
       "    </tr>\n",
       "    <tr>\n",
       "      <th>release_day</th>\n",
       "      <td>0</td>\n",
       "      <td>0.000000</td>\n",
       "    </tr>\n",
       "    <tr>\n",
       "      <th>release_month</th>\n",
       "      <td>0</td>\n",
       "      <td>0.000000</td>\n",
       "    </tr>\n",
       "    <tr>\n",
       "      <th>runtime</th>\n",
       "      <td>0</td>\n",
       "      <td>0.000000</td>\n",
       "    </tr>\n",
       "    <tr>\n",
       "      <th>vote_count</th>\n",
       "      <td>0</td>\n",
       "      <td>0.000000</td>\n",
       "    </tr>\n",
       "    <tr>\n",
       "      <th>vote_average</th>\n",
       "      <td>0</td>\n",
       "      <td>0.000000</td>\n",
       "    </tr>\n",
       "    <tr>\n",
       "      <th>release_year</th>\n",
       "      <td>0</td>\n",
       "      <td>0.000000</td>\n",
       "    </tr>\n",
       "    <tr>\n",
       "      <th>budget_adj</th>\n",
       "      <td>0</td>\n",
       "      <td>0.000000</td>\n",
       "    </tr>\n",
       "    <tr>\n",
       "      <th>revenue_adj</th>\n",
       "      <td>0</td>\n",
       "      <td>0.000000</td>\n",
       "    </tr>\n",
       "    <tr>\n",
       "      <th>id</th>\n",
       "      <td>0</td>\n",
       "      <td>0.000000</td>\n",
       "    </tr>\n",
       "  </tbody>\n",
       "</table>\n",
       "</div>"
      ],
      "text/plain": [
       "                      total    percent\n",
       "tagline                2824  25.991717\n",
       "keywords               1493  13.741371\n",
       "production_companies   1030   9.479982\n",
       "cast                     76   0.699494\n",
       "director                 44   0.404970\n",
       "genres                   23   0.211689\n",
       "overview                  4   0.036815\n",
       "popularity                0   0.000000\n",
       "budget                    0   0.000000\n",
       "revenue                   0   0.000000\n",
       "original_title            0   0.000000\n",
       "release_day               0   0.000000\n",
       "release_month             0   0.000000\n",
       "runtime                   0   0.000000\n",
       "vote_count                0   0.000000\n",
       "vote_average              0   0.000000\n",
       "release_year              0   0.000000\n",
       "budget_adj                0   0.000000\n",
       "revenue_adj               0   0.000000\n",
       "id                        0   0.000000"
      ]
     },
     "execution_count": 82,
     "metadata": {},
     "output_type": "execute_result"
    }
   ],
   "source": [
    "total = tmdb_movies.isnull().sum().sort_values(ascending = False)\n",
    "percent = ((tmdb_movies.isnull().sum() / tmdb_movies.shape[0])*100).sort_values(ascending = False)\n",
    "pd.concat([total,percent],axis = 1,keys = ['total','percent'])"
   ]
  },
  {
   "cell_type": "markdown",
   "metadata": {},
   "source": [
    "#### check null values"
   ]
  },
  {
   "cell_type": "code",
   "execution_count": 83,
   "metadata": {},
   "outputs": [
    {
     "data": {
      "text/plain": [
       "id                         0\n",
       "popularity                 0\n",
       "budget                     0\n",
       "revenue                    0\n",
       "original_title             0\n",
       "cast                      76\n",
       "director                  44\n",
       "tagline                 2824\n",
       "keywords                1493\n",
       "overview                   4\n",
       "runtime                    0\n",
       "genres                    23\n",
       "production_companies    1030\n",
       "vote_count                 0\n",
       "vote_average               0\n",
       "release_year               0\n",
       "budget_adj                 0\n",
       "revenue_adj                0\n",
       "release_month              0\n",
       "release_day                0\n",
       "dtype: int64"
      ]
     },
     "execution_count": 83,
     "metadata": {},
     "output_type": "execute_result"
    }
   ],
   "source": [
    "tmdb_movies.isnull().sum()"
   ]
  },
  {
   "cell_type": "markdown",
   "metadata": {},
   "source": [
    "### Let's drop null values from dataframe."
   ]
  },
  {
   "cell_type": "code",
   "execution_count": 84,
   "metadata": {},
   "outputs": [],
   "source": [
    "tmdb_movies.dropna(how = 'any',inplace = True)"
   ]
  },
  {
   "cell_type": "markdown",
   "metadata": {},
   "source": [
    "### check shape of dataframe after dropping null values"
   ]
  },
  {
   "cell_type": "code",
   "execution_count": 85,
   "metadata": {},
   "outputs": [
    {
     "data": {
      "text/plain": [
       "(7031, 20)"
      ]
     },
     "execution_count": 85,
     "metadata": {},
     "output_type": "execute_result"
    }
   ],
   "source": [
    "tmdb_movies.shape"
   ]
  },
  {
   "cell_type": "markdown",
   "metadata": {},
   "source": [
    "### Checking if our dataset contains runtime of zero or less than zero "
   ]
  },
  {
   "cell_type": "code",
   "execution_count": 86,
   "metadata": {},
   "outputs": [
    {
     "data": {
      "text/plain": [
       "((3, 20), array([ 334, 1289, 1293], dtype=int64))"
      ]
     },
     "execution_count": 86,
     "metadata": {},
     "output_type": "execute_result"
    }
   ],
   "source": [
    "is_runtime_zero = tmdb_movies['runtime'] == 0\n",
    "tmdb_movies[is_runtime_zero].shape , tmdb_movies[is_runtime_zero].index.values"
   ]
  },
  {
   "cell_type": "code",
   "execution_count": 87,
   "metadata": {
    "scrolled": true
   },
   "outputs": [
    {
     "data": {
      "text/html": [
       "<div>\n",
       "<style scoped>\n",
       "    .dataframe tbody tr th:only-of-type {\n",
       "        vertical-align: middle;\n",
       "    }\n",
       "\n",
       "    .dataframe tbody tr th {\n",
       "        vertical-align: top;\n",
       "    }\n",
       "\n",
       "    .dataframe thead th {\n",
       "        text-align: right;\n",
       "    }\n",
       "</style>\n",
       "<table border=\"1\" class=\"dataframe\">\n",
       "  <thead>\n",
       "    <tr style=\"text-align: right;\">\n",
       "      <th></th>\n",
       "      <th>id</th>\n",
       "      <th>popularity</th>\n",
       "      <th>budget</th>\n",
       "      <th>revenue</th>\n",
       "      <th>original_title</th>\n",
       "      <th>cast</th>\n",
       "      <th>director</th>\n",
       "      <th>tagline</th>\n",
       "      <th>keywords</th>\n",
       "      <th>overview</th>\n",
       "      <th>runtime</th>\n",
       "      <th>genres</th>\n",
       "      <th>production_companies</th>\n",
       "      <th>vote_count</th>\n",
       "      <th>vote_average</th>\n",
       "      <th>release_year</th>\n",
       "      <th>budget_adj</th>\n",
       "      <th>revenue_adj</th>\n",
       "      <th>release_month</th>\n",
       "      <th>release_day</th>\n",
       "    </tr>\n",
       "  </thead>\n",
       "  <tbody>\n",
       "    <tr>\n",
       "      <th>334</th>\n",
       "      <td>361931</td>\n",
       "      <td>0.357654</td>\n",
       "      <td>0</td>\n",
       "      <td>0</td>\n",
       "      <td>Ronaldo</td>\n",
       "      <td>Cristiano Ronaldo</td>\n",
       "      <td>Anthony Wonke</td>\n",
       "      <td>Astonishing. Intimate. Definitive.</td>\n",
       "      <td>biography|soccer player</td>\n",
       "      <td>Filmed over 14 months with unprecedented acces...</td>\n",
       "      <td>0</td>\n",
       "      <td>Documentary</td>\n",
       "      <td>On The Corner Films|We Came, We Saw, We Conque...</td>\n",
       "      <td>80</td>\n",
       "      <td>6.5</td>\n",
       "      <td>2015</td>\n",
       "      <td>0.000000e+00</td>\n",
       "      <td>0.0</td>\n",
       "      <td>11</td>\n",
       "      <td>Monday</td>\n",
       "    </tr>\n",
       "    <tr>\n",
       "      <th>1289</th>\n",
       "      <td>286372</td>\n",
       "      <td>0.037459</td>\n",
       "      <td>3250000</td>\n",
       "      <td>0</td>\n",
       "      <td>Treehouse</td>\n",
       "      <td>J. Michael Trautmann|Dana Melanie|Daniel Fredr...</td>\n",
       "      <td>Michael G. Bartlett</td>\n",
       "      <td>No kids allowed</td>\n",
       "      <td>kidnapping|brutality|violence|teenager|discovery</td>\n",
       "      <td>A teenage boy discovers the perpetrators of se...</td>\n",
       "      <td>0</td>\n",
       "      <td>Thriller|Horror|Mystery</td>\n",
       "      <td>Tiberius Film</td>\n",
       "      <td>16</td>\n",
       "      <td>3.4</td>\n",
       "      <td>2014</td>\n",
       "      <td>2.993546e+06</td>\n",
       "      <td>0.0</td>\n",
       "      <td>10</td>\n",
       "      <td>Monday</td>\n",
       "    </tr>\n",
       "    <tr>\n",
       "      <th>1293</th>\n",
       "      <td>286256</td>\n",
       "      <td>0.036904</td>\n",
       "      <td>0</td>\n",
       "      <td>0</td>\n",
       "      <td>Tim Maia</td>\n",
       "      <td>Robson Nunes|BabÃº Santana|Alinne Moraes|CauÃ£...</td>\n",
       "      <td>Mauro Lima</td>\n",
       "      <td>Original language PORTUGUESE</td>\n",
       "      <td>brazilian|biography|music|drama|documentary</td>\n",
       "      <td>Biopic of Brazilian singer Tim Maia, from his ...</td>\n",
       "      <td>0</td>\n",
       "      <td>Documentary|Drama|Music</td>\n",
       "      <td>Globo Filmes</td>\n",
       "      <td>14</td>\n",
       "      <td>6.0</td>\n",
       "      <td>2014</td>\n",
       "      <td>0.000000e+00</td>\n",
       "      <td>0.0</td>\n",
       "      <td>10</td>\n",
       "      <td>Thursday</td>\n",
       "    </tr>\n",
       "  </tbody>\n",
       "</table>\n",
       "</div>"
      ],
      "text/plain": [
       "          id  popularity   budget  revenue original_title  \\\n",
       "334   361931    0.357654        0        0        Ronaldo   \n",
       "1289  286372    0.037459  3250000        0      Treehouse   \n",
       "1293  286256    0.036904        0        0       Tim Maia   \n",
       "\n",
       "                                                   cast             director  \\\n",
       "334                                   Cristiano Ronaldo        Anthony Wonke   \n",
       "1289  J. Michael Trautmann|Dana Melanie|Daniel Fredr...  Michael G. Bartlett   \n",
       "1293  Robson Nunes|BabÃº Santana|Alinne Moraes|CauÃ£...           Mauro Lima   \n",
       "\n",
       "                                 tagline  \\\n",
       "334   Astonishing. Intimate. Definitive.   \n",
       "1289                     No kids allowed   \n",
       "1293        Original language PORTUGUESE   \n",
       "\n",
       "                                              keywords  \\\n",
       "334                            biography|soccer player   \n",
       "1289  kidnapping|brutality|violence|teenager|discovery   \n",
       "1293       brazilian|biography|music|drama|documentary   \n",
       "\n",
       "                                               overview  runtime  \\\n",
       "334   Filmed over 14 months with unprecedented acces...        0   \n",
       "1289  A teenage boy discovers the perpetrators of se...        0   \n",
       "1293  Biopic of Brazilian singer Tim Maia, from his ...        0   \n",
       "\n",
       "                       genres  \\\n",
       "334               Documentary   \n",
       "1289  Thriller|Horror|Mystery   \n",
       "1293  Documentary|Drama|Music   \n",
       "\n",
       "                                   production_companies  vote_count  \\\n",
       "334   On The Corner Films|We Came, We Saw, We Conque...          80   \n",
       "1289                                      Tiberius Film          16   \n",
       "1293                                       Globo Filmes          14   \n",
       "\n",
       "      vote_average  release_year    budget_adj  revenue_adj  release_month  \\\n",
       "334            6.5          2015  0.000000e+00          0.0             11   \n",
       "1289           3.4          2014  2.993546e+06          0.0             10   \n",
       "1293           6.0          2014  0.000000e+00          0.0             10   \n",
       "\n",
       "     release_day  \n",
       "334       Monday  \n",
       "1289      Monday  \n",
       "1293    Thursday  "
      ]
     },
     "execution_count": 87,
     "metadata": {},
     "output_type": "execute_result"
    }
   ],
   "source": [
    "tmdb_movies[is_runtime_zero]"
   ]
  },
  {
   "cell_type": "markdown",
   "metadata": {},
   "source": [
    "### check shape of dataframe"
   ]
  },
  {
   "cell_type": "code",
   "execution_count": 89,
   "metadata": {},
   "outputs": [
    {
     "data": {
      "text/plain": [
       "(7031, 20)"
      ]
     },
     "execution_count": 89,
     "metadata": {},
     "output_type": "execute_result"
    }
   ],
   "source": [
    "tmdb_movies.shape"
   ]
  },
  {
   "cell_type": "markdown",
   "metadata": {},
   "source": [
    "### There are some fields separted by pipe '|' character. For better analysis, let's split them up."
   ]
  },
  {
   "cell_type": "code",
   "execution_count": 91,
   "metadata": {},
   "outputs": [],
   "source": [
    "def separate(data):\n",
    "    return data.str[0:].str.split('|',expand = True)"
   ]
  },
  {
   "cell_type": "code",
   "execution_count": 92,
   "metadata": {},
   "outputs": [],
   "source": [
    "genres = separate(tmdb_movies['genres'])\n",
    "keywords = separate(tmdb_movies['keywords'])\n",
    "cast = separate(tmdb_movies['cast'])\n",
    "production_companies = separate(tmdb_movies['production_companies'])"
   ]
  },
  {
   "cell_type": "markdown",
   "metadata": {},
   "source": [
    "### Splitting done successfully"
   ]
  },
  {
   "cell_type": "markdown",
   "metadata": {},
   "source": [
    ">### Let's show genres and cast heading"
   ]
  },
  {
   "cell_type": "code",
   "execution_count": 97,
   "metadata": {},
   "outputs": [
    {
     "data": {
      "text/html": [
       "<div>\n",
       "<style scoped>\n",
       "    .dataframe tbody tr th:only-of-type {\n",
       "        vertical-align: middle;\n",
       "    }\n",
       "\n",
       "    .dataframe tbody tr th {\n",
       "        vertical-align: top;\n",
       "    }\n",
       "\n",
       "    .dataframe thead th {\n",
       "        text-align: right;\n",
       "    }\n",
       "</style>\n",
       "<table border=\"1\" class=\"dataframe\">\n",
       "  <thead>\n",
       "    <tr style=\"text-align: right;\">\n",
       "      <th></th>\n",
       "      <th>0</th>\n",
       "      <th>1</th>\n",
       "      <th>2</th>\n",
       "      <th>3</th>\n",
       "      <th>4</th>\n",
       "    </tr>\n",
       "  </thead>\n",
       "  <tbody>\n",
       "    <tr>\n",
       "      <th>0</th>\n",
       "      <td>Chris Pratt</td>\n",
       "      <td>Bryce Dallas Howard</td>\n",
       "      <td>Irrfan Khan</td>\n",
       "      <td>Vincent D'Onofrio</td>\n",
       "      <td>Nick Robinson</td>\n",
       "    </tr>\n",
       "    <tr>\n",
       "      <th>1</th>\n",
       "      <td>Tom Hardy</td>\n",
       "      <td>Charlize Theron</td>\n",
       "      <td>Hugh Keays-Byrne</td>\n",
       "      <td>Nicholas Hoult</td>\n",
       "      <td>Josh Helman</td>\n",
       "    </tr>\n",
       "    <tr>\n",
       "      <th>2</th>\n",
       "      <td>Shailene Woodley</td>\n",
       "      <td>Theo James</td>\n",
       "      <td>Kate Winslet</td>\n",
       "      <td>Ansel Elgort</td>\n",
       "      <td>Miles Teller</td>\n",
       "    </tr>\n",
       "    <tr>\n",
       "      <th>3</th>\n",
       "      <td>Harrison Ford</td>\n",
       "      <td>Mark Hamill</td>\n",
       "      <td>Carrie Fisher</td>\n",
       "      <td>Adam Driver</td>\n",
       "      <td>Daisy Ridley</td>\n",
       "    </tr>\n",
       "    <tr>\n",
       "      <th>4</th>\n",
       "      <td>Vin Diesel</td>\n",
       "      <td>Paul Walker</td>\n",
       "      <td>Jason Statham</td>\n",
       "      <td>Michelle Rodriguez</td>\n",
       "      <td>Dwayne Johnson</td>\n",
       "    </tr>\n",
       "  </tbody>\n",
       "</table>\n",
       "</div>"
      ],
      "text/plain": [
       "                  0                    1                 2  \\\n",
       "0       Chris Pratt  Bryce Dallas Howard       Irrfan Khan   \n",
       "1         Tom Hardy      Charlize Theron  Hugh Keays-Byrne   \n",
       "2  Shailene Woodley           Theo James      Kate Winslet   \n",
       "3     Harrison Ford          Mark Hamill     Carrie Fisher   \n",
       "4        Vin Diesel          Paul Walker     Jason Statham   \n",
       "\n",
       "                    3               4  \n",
       "0   Vincent D'Onofrio   Nick Robinson  \n",
       "1      Nicholas Hoult     Josh Helman  \n",
       "2        Ansel Elgort    Miles Teller  \n",
       "3         Adam Driver    Daisy Ridley  \n",
       "4  Michelle Rodriguez  Dwayne Johnson  "
      ]
     },
     "execution_count": 97,
     "metadata": {},
     "output_type": "execute_result"
    }
   ],
   "source": [
    "cast.head()"
   ]
  },
  {
   "cell_type": "code",
   "execution_count": 98,
   "metadata": {},
   "outputs": [
    {
     "data": {
      "text/html": [
       "<div>\n",
       "<style scoped>\n",
       "    .dataframe tbody tr th:only-of-type {\n",
       "        vertical-align: middle;\n",
       "    }\n",
       "\n",
       "    .dataframe tbody tr th {\n",
       "        vertical-align: top;\n",
       "    }\n",
       "\n",
       "    .dataframe thead th {\n",
       "        text-align: right;\n",
       "    }\n",
       "</style>\n",
       "<table border=\"1\" class=\"dataframe\">\n",
       "  <thead>\n",
       "    <tr style=\"text-align: right;\">\n",
       "      <th></th>\n",
       "      <th>0</th>\n",
       "      <th>1</th>\n",
       "      <th>2</th>\n",
       "      <th>3</th>\n",
       "      <th>4</th>\n",
       "    </tr>\n",
       "  </thead>\n",
       "  <tbody>\n",
       "    <tr>\n",
       "      <th>0</th>\n",
       "      <td>Action</td>\n",
       "      <td>Adventure</td>\n",
       "      <td>Science Fiction</td>\n",
       "      <td>Thriller</td>\n",
       "      <td>None</td>\n",
       "    </tr>\n",
       "    <tr>\n",
       "      <th>1</th>\n",
       "      <td>Action</td>\n",
       "      <td>Adventure</td>\n",
       "      <td>Science Fiction</td>\n",
       "      <td>Thriller</td>\n",
       "      <td>None</td>\n",
       "    </tr>\n",
       "    <tr>\n",
       "      <th>2</th>\n",
       "      <td>Adventure</td>\n",
       "      <td>Science Fiction</td>\n",
       "      <td>Thriller</td>\n",
       "      <td>None</td>\n",
       "      <td>None</td>\n",
       "    </tr>\n",
       "    <tr>\n",
       "      <th>3</th>\n",
       "      <td>Action</td>\n",
       "      <td>Adventure</td>\n",
       "      <td>Science Fiction</td>\n",
       "      <td>Fantasy</td>\n",
       "      <td>None</td>\n",
       "    </tr>\n",
       "    <tr>\n",
       "      <th>4</th>\n",
       "      <td>Action</td>\n",
       "      <td>Crime</td>\n",
       "      <td>Thriller</td>\n",
       "      <td>None</td>\n",
       "      <td>None</td>\n",
       "    </tr>\n",
       "  </tbody>\n",
       "</table>\n",
       "</div>"
      ],
      "text/plain": [
       "           0                1                2         3     4\n",
       "0     Action        Adventure  Science Fiction  Thriller  None\n",
       "1     Action        Adventure  Science Fiction  Thriller  None\n",
       "2  Adventure  Science Fiction         Thriller      None  None\n",
       "3     Action        Adventure  Science Fiction   Fantasy  None\n",
       "4     Action            Crime         Thriller      None  None"
      ]
     },
     "execution_count": 98,
     "metadata": {},
     "output_type": "execute_result"
    }
   ],
   "source": [
    "genres.head() "
   ]
  },
  {
   "cell_type": "markdown",
   "metadata": {},
   "source": [
    "### Now, I have to split the data  by pipe character '|' & then melt it to one single column. Hence, I will get separate dataframes for each such column ('genres','cast','keywords','production_companies'). After that, I will be able to merge any of the two dataframes for answering question. "
   ]
  },
  {
   "cell_type": "markdown",
   "metadata": {},
   "source": [
    ">### To acheive the desired result, I have to copy the id column from tmdb_movies dataframe so that it would help me to merge other dataframes on 'id' column."
   ]
  },
  {
   "cell_type": "code",
   "execution_count": 99,
   "metadata": {},
   "outputs": [],
   "source": [
    "genres['id'] = tmdb_movies['id']\n",
    "cast['id'] = tmdb_movies['id']\n",
    "keywords['id'] = tmdb_movies['id']\n",
    "production_companies['id'] = tmdb_movies['id']"
   ]
  },
  {
   "cell_type": "markdown",
   "metadata": {},
   "source": [
    ">### Count null cells"
   ]
  },
  {
   "cell_type": "code",
   "execution_count": 101,
   "metadata": {},
   "outputs": [
    {
     "data": {
      "text/plain": [
       "(0        0\n",
       " 1     1262\n",
       " 2     3418\n",
       " 3     5584\n",
       " 4     6634\n",
       " id       0\n",
       " dtype: int64,\n",
       " 0       0\n",
       " 1      30\n",
       " 2      45\n",
       " 3      72\n",
       " 4     158\n",
       " id      0\n",
       " dtype: int64,\n",
       " 0        0\n",
       " 1      462\n",
       " 2     1016\n",
       " 3     1708\n",
       " 4     2426\n",
       " id       0\n",
       " dtype: int64,\n",
       " 0        0\n",
       " 1     2149\n",
       " 2     4060\n",
       " 3     5405\n",
       " 4     6123\n",
       " id       0\n",
       " dtype: int64)"
      ]
     },
     "execution_count": 101,
     "metadata": {},
     "output_type": "execute_result"
    }
   ],
   "source": [
    "genres.isnull().sum() , cast.isnull().sum(),keywords.isnull().sum(), production_companies.isnull().sum()"
   ]
  },
  {
   "cell_type": "markdown",
   "metadata": {},
   "source": [
    "#### keep id column apply merge on rest of the columns"
   ]
  },
  {
   "cell_type": "code",
   "execution_count": 102,
   "metadata": {},
   "outputs": [],
   "source": [
    "def melt_df(data ):\n",
    "    return pd.melt(data,col_level = 0,id_vars = 'id',value_vars = [0,1,2,3,4]) #keep id column apply merge on rest of the columns\n"
   ]
  },
  {
   "cell_type": "markdown",
   "metadata": {},
   "source": [
    "#### apply merge and keep id Field/Column"
   ]
  },
  {
   "cell_type": "code",
   "execution_count": 104,
   "metadata": {},
   "outputs": [],
   "source": [
    "genres=melt_df(genres)\n",
    "cast = melt_df(cast)\n",
    "keywords = melt_df(keywords)\n",
    "production_companies = melt_df(production_companies)"
   ]
  },
  {
   "cell_type": "code",
   "execution_count": 105,
   "metadata": {},
   "outputs": [
    {
     "data": {
      "text/html": [
       "<div>\n",
       "<style scoped>\n",
       "    .dataframe tbody tr th:only-of-type {\n",
       "        vertical-align: middle;\n",
       "    }\n",
       "\n",
       "    .dataframe tbody tr th {\n",
       "        vertical-align: top;\n",
       "    }\n",
       "\n",
       "    .dataframe thead th {\n",
       "        text-align: right;\n",
       "    }\n",
       "</style>\n",
       "<table border=\"1\" class=\"dataframe\">\n",
       "  <thead>\n",
       "    <tr style=\"text-align: right;\">\n",
       "      <th></th>\n",
       "      <th>id</th>\n",
       "      <th>variable</th>\n",
       "      <th>value</th>\n",
       "    </tr>\n",
       "  </thead>\n",
       "  <tbody>\n",
       "    <tr>\n",
       "      <th>0</th>\n",
       "      <td>135397</td>\n",
       "      <td>0</td>\n",
       "      <td>Action</td>\n",
       "    </tr>\n",
       "    <tr>\n",
       "      <th>1</th>\n",
       "      <td>76341</td>\n",
       "      <td>0</td>\n",
       "      <td>Action</td>\n",
       "    </tr>\n",
       "    <tr>\n",
       "      <th>2</th>\n",
       "      <td>262500</td>\n",
       "      <td>0</td>\n",
       "      <td>Adventure</td>\n",
       "    </tr>\n",
       "    <tr>\n",
       "      <th>3</th>\n",
       "      <td>140607</td>\n",
       "      <td>0</td>\n",
       "      <td>Action</td>\n",
       "    </tr>\n",
       "    <tr>\n",
       "      <th>4</th>\n",
       "      <td>168259</td>\n",
       "      <td>0</td>\n",
       "      <td>Action</td>\n",
       "    </tr>\n",
       "  </tbody>\n",
       "</table>\n",
       "</div>"
      ],
      "text/plain": [
       "       id variable      value\n",
       "0  135397        0     Action\n",
       "1   76341        0     Action\n",
       "2  262500        0  Adventure\n",
       "3  140607        0     Action\n",
       "4  168259        0     Action"
      ]
     },
     "execution_count": 105,
     "metadata": {},
     "output_type": "execute_result"
    }
   ],
   "source": [
    "genres.head()"
   ]
  },
  {
   "cell_type": "markdown",
   "metadata": {},
   "source": [
    "### According to results in genres dataset, the column named 'variable' is containing name of our columns before merging, which isnot required for our use. Now, I will drop 'variable' column."
   ]
  },
  {
   "cell_type": "code",
   "execution_count": 107,
   "metadata": {},
   "outputs": [],
   "source": [
    "grouped_df = [genres,cast,keywords,production_companies]\n",
    "for df in grouped_df:\n",
    "    df.columns = ['id','variable','value']\n",
    "    df.drop(df.columns[1],axis=1, inplace=True)"
   ]
  },
  {
   "cell_type": "markdown",
   "metadata": {},
   "source": [
    "##### we have dropped column with index [1] in df, which refer to column named with : 'variable'"
   ]
  },
  {
   "cell_type": "markdown",
   "metadata": {},
   "source": [
    "## Let's Rename column of DataFrames"
   ]
  },
  {
   "cell_type": "code",
   "execution_count": 109,
   "metadata": {},
   "outputs": [],
   "source": [
    "genres.rename(columns = {'value':'genres'},inplace = True)\n",
    "cast.rename(columns = {'value':'cast'},inplace = True)\n",
    "production_companies.rename(columns = {'value':'production_companies'},inplace = True)\n",
    "keywords.rename(columns = {'value':'keywords'},inplace = True)"
   ]
  },
  {
   "cell_type": "markdown",
   "metadata": {},
   "source": [
    "### Dropping all the null values"
   ]
  },
  {
   "cell_type": "code",
   "execution_count": 111,
   "metadata": {},
   "outputs": [],
   "source": [
    "genres.dropna(inplace = True)\n",
    "cast.dropna(inplace = True)\n",
    "keywords.dropna(inplace = True)\n",
    "production_companies.dropna(inplace = True)"
   ]
  },
  {
   "cell_type": "markdown",
   "metadata": {},
   "source": [
    ">## We have been able to make different DataFrames for each of the below columns So it would be good idea to be dropped from our primary DataFrame"
   ]
  },
  {
   "cell_type": "code",
   "execution_count": 112,
   "metadata": {},
   "outputs": [],
   "source": [
    "movies=tmdb_movies.drop(columns = ['cast','keywords','production_companies', 'genres'],axis = 1)"
   ]
  },
  {
   "cell_type": "markdown",
   "metadata": {},
   "source": [
    "### Let's test cast heading"
   ]
  },
  {
   "cell_type": "code",
   "execution_count": 113,
   "metadata": {},
   "outputs": [
    {
     "data": {
      "text/html": [
       "<div>\n",
       "<style scoped>\n",
       "    .dataframe tbody tr th:only-of-type {\n",
       "        vertical-align: middle;\n",
       "    }\n",
       "\n",
       "    .dataframe tbody tr th {\n",
       "        vertical-align: top;\n",
       "    }\n",
       "\n",
       "    .dataframe thead th {\n",
       "        text-align: right;\n",
       "    }\n",
       "</style>\n",
       "<table border=\"1\" class=\"dataframe\">\n",
       "  <thead>\n",
       "    <tr style=\"text-align: right;\">\n",
       "      <th></th>\n",
       "      <th>id</th>\n",
       "      <th>cast</th>\n",
       "    </tr>\n",
       "  </thead>\n",
       "  <tbody>\n",
       "    <tr>\n",
       "      <th>0</th>\n",
       "      <td>135397</td>\n",
       "      <td>Chris Pratt</td>\n",
       "    </tr>\n",
       "    <tr>\n",
       "      <th>1</th>\n",
       "      <td>76341</td>\n",
       "      <td>Tom Hardy</td>\n",
       "    </tr>\n",
       "    <tr>\n",
       "      <th>2</th>\n",
       "      <td>262500</td>\n",
       "      <td>Shailene Woodley</td>\n",
       "    </tr>\n",
       "    <tr>\n",
       "      <th>3</th>\n",
       "      <td>140607</td>\n",
       "      <td>Harrison Ford</td>\n",
       "    </tr>\n",
       "    <tr>\n",
       "      <th>4</th>\n",
       "      <td>168259</td>\n",
       "      <td>Vin Diesel</td>\n",
       "    </tr>\n",
       "  </tbody>\n",
       "</table>\n",
       "</div>"
      ],
      "text/plain": [
       "       id              cast\n",
       "0  135397       Chris Pratt\n",
       "1   76341         Tom Hardy\n",
       "2  262500  Shailene Woodley\n",
       "3  140607     Harrison Ford\n",
       "4  168259        Vin Diesel"
      ]
     },
     "execution_count": 113,
     "metadata": {},
     "output_type": "execute_result"
    }
   ],
   "source": [
    "cast.head()"
   ]
  },
  {
   "cell_type": "markdown",
   "metadata": {},
   "source": [
    "### Let's return the first 10 records in cast dataframe"
   ]
  },
  {
   "cell_type": "code",
   "execution_count": 240,
   "metadata": {},
   "outputs": [
    {
     "data": {
      "text/plain": [
       "Robert De Niro       63\n",
       "Bruce Willis         58\n",
       "Samuel L. Jackson    56\n",
       "Nicolas Cage         53\n",
       "Robin Williams       47\n",
       "Morgan Freeman       44\n",
       "Tom Hanks            43\n",
       "Dennis Quaid         41\n",
       "Liam Neeson          40\n",
       "Michael Caine        40\n",
       "Name: cast, dtype: int64"
      ]
     },
     "execution_count": 240,
     "metadata": {},
     "output_type": "execute_result"
    }
   ],
   "source": [
    "cast['cast'].value_counts()[0:10]"
   ]
  },
  {
   "cell_type": "markdown",
   "metadata": {},
   "source": [
    "### Let's save all the new dataframes into csv files for future need."
   ]
  },
  {
   "cell_type": "code",
   "execution_count": 117,
   "metadata": {},
   "outputs": [],
   "source": [
    "genres.to_csv('genres.csv',index = False)\n",
    "cast.to_csv('cast.csv',index = False)\n",
    "keywords.to_csv('keywords.csv',index = False)\n",
    "production_companies.to_csv('production_companies.csv',index = False)"
   ]
  },
  {
   "cell_type": "markdown",
   "metadata": {},
   "source": [
    "### CSV files had been generated successfully"
   ]
  },
  {
   "cell_type": "markdown",
   "metadata": {},
   "source": [
    "### To be more sure let us check if our DataFrames contains any duplicates"
   ]
  },
  {
   "cell_type": "code",
   "execution_count": 119,
   "metadata": {},
   "outputs": [
    {
     "data": {
      "text/plain": [
       "(id        0\n",
       " genres    0\n",
       " dtype: int64,\n",
       " id      0\n",
       " cast    0\n",
       " dtype: int64,\n",
       " id          0\n",
       " keywords    0\n",
       " dtype: int64,\n",
       " id                      0\n",
       " production_companies    0\n",
       " dtype: int64)"
      ]
     },
     "execution_count": 119,
     "metadata": {},
     "output_type": "execute_result"
    }
   ],
   "source": [
    "genres.isnull().sum() , cast.isnull().sum(), keywords.isnull().sum(),production_companies.isnull().sum()"
   ]
  },
  {
   "cell_type": "markdown",
   "metadata": {},
   "source": [
    "### Let us also check for any duplicates."
   ]
  },
  {
   "cell_type": "code",
   "execution_count": 120,
   "metadata": {},
   "outputs": [
    {
     "data": {
      "text/plain": [
       "(0, 5, 0, 1)"
      ]
     },
     "execution_count": 120,
     "metadata": {},
     "output_type": "execute_result"
    }
   ],
   "source": [
    "sum(genres.duplicated()) , sum(cast.duplicated()) , sum(keywords.duplicated()) , sum(production_companies.duplicated())"
   ]
  },
  {
   "cell_type": "markdown",
   "metadata": {},
   "source": [
    "### check shape of cast and genres"
   ]
  },
  {
   "cell_type": "code",
   "execution_count": 121,
   "metadata": {},
   "outputs": [
    {
     "data": {
      "text/plain": [
       "((34850, 2), (18257, 2))"
      ]
     },
     "execution_count": 121,
     "metadata": {},
     "output_type": "execute_result"
    }
   ],
   "source": [
    "cast.shape , genres.shape"
   ]
  },
  {
   "cell_type": "markdown",
   "metadata": {},
   "source": [
    "### let's drop duplicates in cast and production_companies"
   ]
  },
  {
   "cell_type": "code",
   "execution_count": 122,
   "metadata": {},
   "outputs": [
    {
     "data": {
      "text/plain": [
       "(None, None)"
      ]
     },
     "execution_count": 122,
     "metadata": {},
     "output_type": "execute_result"
    }
   ],
   "source": [
    "cast.drop_duplicates(inplace = True) , production_companies.drop_duplicates(inplace = True)"
   ]
  },
  {
   "cell_type": "markdown",
   "metadata": {},
   "source": [
    "### let's calculate null value "
   ]
  },
  {
   "cell_type": "code",
   "execution_count": 123,
   "metadata": {},
   "outputs": [
    {
     "data": {
      "text/plain": [
       "id                0\n",
       "popularity        0\n",
       "budget            0\n",
       "revenue           0\n",
       "original_title    0\n",
       "director          0\n",
       "tagline           0\n",
       "overview          0\n",
       "runtime           0\n",
       "vote_count        0\n",
       "vote_average      0\n",
       "release_year      0\n",
       "budget_adj        0\n",
       "revenue_adj       0\n",
       "release_month     0\n",
       "release_day       0\n",
       "dtype: int64"
      ]
     },
     "execution_count": 123,
     "metadata": {},
     "output_type": "execute_result"
    }
   ],
   "source": [
    "movies.isnull().sum()"
   ]
  },
  {
   "cell_type": "markdown",
   "metadata": {},
   "source": [
    "### Let's arrange all the columns."
   ]
  },
  {
   "cell_type": "code",
   "execution_count": 125,
   "metadata": {},
   "outputs": [],
   "source": [
    "movies = movies[['id','original_title','tagline', 'overview','runtime','release_day', 'release_month', 'release_year','popularity','vote_count','vote_average','director','budget','revenue','budget_adj','revenue_adj']]"
   ]
  },
  {
   "cell_type": "markdown",
   "metadata": {},
   "source": [
    ">### Let's save movies dataset after preprocessing phase"
   ]
  },
  {
   "cell_type": "code",
   "execution_count": 129,
   "metadata": {},
   "outputs": [],
   "source": [
    "movies.to_csv('movies_preprocessing_done.csv',index = False)"
   ]
  },
  {
   "cell_type": "markdown",
   "metadata": {},
   "source": [
    "### check contents of movies dataset heading"
   ]
  },
  {
   "cell_type": "code",
   "execution_count": 130,
   "metadata": {},
   "outputs": [
    {
     "data": {
      "text/html": [
       "<div>\n",
       "<style scoped>\n",
       "    .dataframe tbody tr th:only-of-type {\n",
       "        vertical-align: middle;\n",
       "    }\n",
       "\n",
       "    .dataframe tbody tr th {\n",
       "        vertical-align: top;\n",
       "    }\n",
       "\n",
       "    .dataframe thead th {\n",
       "        text-align: right;\n",
       "    }\n",
       "</style>\n",
       "<table border=\"1\" class=\"dataframe\">\n",
       "  <thead>\n",
       "    <tr style=\"text-align: right;\">\n",
       "      <th></th>\n",
       "      <th>id</th>\n",
       "      <th>original_title</th>\n",
       "      <th>tagline</th>\n",
       "      <th>overview</th>\n",
       "      <th>runtime</th>\n",
       "      <th>release_day</th>\n",
       "      <th>release_month</th>\n",
       "      <th>release_year</th>\n",
       "      <th>popularity</th>\n",
       "      <th>vote_count</th>\n",
       "      <th>vote_average</th>\n",
       "      <th>director</th>\n",
       "      <th>budget</th>\n",
       "      <th>revenue</th>\n",
       "      <th>budget_adj</th>\n",
       "      <th>revenue_adj</th>\n",
       "    </tr>\n",
       "  </thead>\n",
       "  <tbody>\n",
       "    <tr>\n",
       "      <th>0</th>\n",
       "      <td>135397</td>\n",
       "      <td>Jurassic World</td>\n",
       "      <td>The park is open.</td>\n",
       "      <td>Twenty-two years after the events of Jurassic ...</td>\n",
       "      <td>124</td>\n",
       "      <td>Tuesday</td>\n",
       "      <td>6</td>\n",
       "      <td>2015</td>\n",
       "      <td>32.985763</td>\n",
       "      <td>5562</td>\n",
       "      <td>6.5</td>\n",
       "      <td>Colin Trevorrow</td>\n",
       "      <td>150000000</td>\n",
       "      <td>1513528810</td>\n",
       "      <td>1.379999e+08</td>\n",
       "      <td>1.392446e+09</td>\n",
       "    </tr>\n",
       "    <tr>\n",
       "      <th>1</th>\n",
       "      <td>76341</td>\n",
       "      <td>Mad Max: Fury Road</td>\n",
       "      <td>What a Lovely Day.</td>\n",
       "      <td>An apocalyptic story set in the furthest reach...</td>\n",
       "      <td>120</td>\n",
       "      <td>Wednesday</td>\n",
       "      <td>5</td>\n",
       "      <td>2015</td>\n",
       "      <td>28.419936</td>\n",
       "      <td>6185</td>\n",
       "      <td>7.1</td>\n",
       "      <td>George Miller</td>\n",
       "      <td>150000000</td>\n",
       "      <td>378436354</td>\n",
       "      <td>1.379999e+08</td>\n",
       "      <td>3.481613e+08</td>\n",
       "    </tr>\n",
       "    <tr>\n",
       "      <th>2</th>\n",
       "      <td>262500</td>\n",
       "      <td>Insurgent</td>\n",
       "      <td>One Choice Can Destroy You</td>\n",
       "      <td>Beatrice Prior must confront her inner demons ...</td>\n",
       "      <td>119</td>\n",
       "      <td>Wednesday</td>\n",
       "      <td>3</td>\n",
       "      <td>2015</td>\n",
       "      <td>13.112507</td>\n",
       "      <td>2480</td>\n",
       "      <td>6.3</td>\n",
       "      <td>Robert Schwentke</td>\n",
       "      <td>110000000</td>\n",
       "      <td>295238201</td>\n",
       "      <td>1.012000e+08</td>\n",
       "      <td>2.716190e+08</td>\n",
       "    </tr>\n",
       "    <tr>\n",
       "      <th>3</th>\n",
       "      <td>140607</td>\n",
       "      <td>Star Wars: The Force Awakens</td>\n",
       "      <td>Every generation has a story.</td>\n",
       "      <td>Thirty years after defeating the Galactic Empi...</td>\n",
       "      <td>136</td>\n",
       "      <td>Tuesday</td>\n",
       "      <td>12</td>\n",
       "      <td>2015</td>\n",
       "      <td>11.173104</td>\n",
       "      <td>5292</td>\n",
       "      <td>7.5</td>\n",
       "      <td>J.J. Abrams</td>\n",
       "      <td>200000000</td>\n",
       "      <td>2068178225</td>\n",
       "      <td>1.839999e+08</td>\n",
       "      <td>1.902723e+09</td>\n",
       "    </tr>\n",
       "    <tr>\n",
       "      <th>4</th>\n",
       "      <td>168259</td>\n",
       "      <td>Furious 7</td>\n",
       "      <td>Vengeance Hits Home</td>\n",
       "      <td>Deckard Shaw seeks revenge against Dominic Tor...</td>\n",
       "      <td>137</td>\n",
       "      <td>Wednesday</td>\n",
       "      <td>4</td>\n",
       "      <td>2015</td>\n",
       "      <td>9.335014</td>\n",
       "      <td>2947</td>\n",
       "      <td>7.3</td>\n",
       "      <td>James Wan</td>\n",
       "      <td>190000000</td>\n",
       "      <td>1506249360</td>\n",
       "      <td>1.747999e+08</td>\n",
       "      <td>1.385749e+09</td>\n",
       "    </tr>\n",
       "  </tbody>\n",
       "</table>\n",
       "</div>"
      ],
      "text/plain": [
       "       id                original_title                        tagline  \\\n",
       "0  135397                Jurassic World              The park is open.   \n",
       "1   76341            Mad Max: Fury Road             What a Lovely Day.   \n",
       "2  262500                     Insurgent     One Choice Can Destroy You   \n",
       "3  140607  Star Wars: The Force Awakens  Every generation has a story.   \n",
       "4  168259                     Furious 7            Vengeance Hits Home   \n",
       "\n",
       "                                            overview  runtime release_day  \\\n",
       "0  Twenty-two years after the events of Jurassic ...      124     Tuesday   \n",
       "1  An apocalyptic story set in the furthest reach...      120   Wednesday   \n",
       "2  Beatrice Prior must confront her inner demons ...      119   Wednesday   \n",
       "3  Thirty years after defeating the Galactic Empi...      136     Tuesday   \n",
       "4  Deckard Shaw seeks revenge against Dominic Tor...      137   Wednesday   \n",
       "\n",
       "   release_month  release_year  popularity  vote_count  vote_average  \\\n",
       "0              6          2015   32.985763        5562           6.5   \n",
       "1              5          2015   28.419936        6185           7.1   \n",
       "2              3          2015   13.112507        2480           6.3   \n",
       "3             12          2015   11.173104        5292           7.5   \n",
       "4              4          2015    9.335014        2947           7.3   \n",
       "\n",
       "           director     budget     revenue    budget_adj   revenue_adj  \n",
       "0   Colin Trevorrow  150000000  1513528810  1.379999e+08  1.392446e+09  \n",
       "1     George Miller  150000000   378436354  1.379999e+08  3.481613e+08  \n",
       "2  Robert Schwentke  110000000   295238201  1.012000e+08  2.716190e+08  \n",
       "3       J.J. Abrams  200000000  2068178225  1.839999e+08  1.902723e+09  \n",
       "4         James Wan  190000000  1506249360  1.747999e+08  1.385749e+09  "
      ]
     },
     "execution_count": 130,
     "metadata": {},
     "output_type": "execute_result"
    }
   ],
   "source": [
    "movies.head()"
   ]
  },
  {
   "cell_type": "markdown",
   "metadata": {},
   "source": [
    ">#### Final check for duplicates and null values."
   ]
  },
  {
   "cell_type": "markdown",
   "metadata": {},
   "source": [
    "#### check null values"
   ]
  },
  {
   "cell_type": "code",
   "execution_count": 131,
   "metadata": {},
   "outputs": [
    {
     "data": {
      "text/plain": [
       "id                0\n",
       "original_title    0\n",
       "tagline           0\n",
       "overview          0\n",
       "runtime           0\n",
       "release_day       0\n",
       "release_month     0\n",
       "release_year      0\n",
       "popularity        0\n",
       "vote_count        0\n",
       "vote_average      0\n",
       "director          0\n",
       "budget            0\n",
       "revenue           0\n",
       "budget_adj        0\n",
       "revenue_adj       0\n",
       "dtype: int64"
      ]
     },
     "execution_count": 131,
     "metadata": {},
     "output_type": "execute_result"
    }
   ],
   "source": [
    "movies.isnull().sum()"
   ]
  },
  {
   "cell_type": "markdown",
   "metadata": {},
   "source": [
    "#### check duplicated values"
   ]
  },
  {
   "cell_type": "code",
   "execution_count": 133,
   "metadata": {},
   "outputs": [
    {
     "data": {
      "text/plain": [
       "0"
      ]
     },
     "execution_count": 133,
     "metadata": {},
     "output_type": "execute_result"
    }
   ],
   "source": [
    "sum(movies.duplicated())"
   ]
  },
  {
   "cell_type": "markdown",
   "metadata": {},
   "source": [
    "<a id='eda'></a>\n",
    "## Exploratory Data Analysis\n",
    "\n",
    ">### 1.What kind of  movie genres are made the most?"
   ]
  },
  {
   "cell_type": "code",
   "execution_count": 134,
   "metadata": {},
   "outputs": [
    {
     "data": {
      "text/plain": [
       "Drama              3117\n",
       "Comedy             2522\n",
       "Thriller           2140\n",
       "Action             1753\n",
       "Horror             1146\n",
       "Romance            1130\n",
       "Adventure          1091\n",
       "Crime              1062\n",
       "Science Fiction     910\n",
       "Family              748\n",
       "Fantasy             641\n",
       "Mystery             608\n",
       "Animation           365\n",
       "Music               234\n",
       "History             211\n",
       "War                 187\n",
       "Documentary         158\n",
       "Western             133\n",
       "TV Movie             61\n",
       "Foreign              40\n",
       "Name: genres, dtype: int64"
      ]
     },
     "execution_count": 134,
     "metadata": {},
     "output_type": "execute_result"
    }
   ],
   "source": [
    "genres['genres'].value_counts()"
   ]
  },
  {
   "cell_type": "markdown",
   "metadata": {},
   "source": [
    "### As we can see movies in Drama genre are made most of the times."
   ]
  },
  {
   "cell_type": "markdown",
   "metadata": {},
   "source": [
    "<a id='q2'></a>\n",
    "> ### 2.Which genres are most popular from year to year?"
   ]
  },
  {
   "cell_type": "markdown",
   "metadata": {},
   "source": [
    "#### I have merged two df's i.e. genres & movies"
   ]
  },
  {
   "cell_type": "code",
   "execution_count": 136,
   "metadata": {},
   "outputs": [],
   "source": [
    "genres_movies = pd.merge(movies , genres , how = 'inner' , on = 'id')"
   ]
  },
  {
   "cell_type": "markdown",
   "metadata": {},
   "source": [
    "#### Then used groupby to get the value counts of genres again used groupby to get the most popular genre of every year."
   ]
  },
  {
   "cell_type": "code",
   "execution_count": 137,
   "metadata": {},
   "outputs": [],
   "source": [
    "grouped_data = genres_movies.groupby('release_year')['genres'].value_counts().reset_index(name = 'counts')"
   ]
  },
  {
   "cell_type": "code",
   "execution_count": 138,
   "metadata": {},
   "outputs": [],
   "source": [
    "grouped_data.set_index('genres',inplace =True)"
   ]
  },
  {
   "cell_type": "code",
   "execution_count": 139,
   "metadata": {},
   "outputs": [
    {
     "data": {
      "text/html": [
       "<div>\n",
       "<style scoped>\n",
       "    .dataframe tbody tr th:only-of-type {\n",
       "        vertical-align: middle;\n",
       "    }\n",
       "\n",
       "    .dataframe tbody tr th {\n",
       "        vertical-align: top;\n",
       "    }\n",
       "\n",
       "    .dataframe thead th {\n",
       "        text-align: right;\n",
       "    }\n",
       "</style>\n",
       "<table border=\"1\" class=\"dataframe\">\n",
       "  <thead>\n",
       "    <tr style=\"text-align: right;\">\n",
       "      <th></th>\n",
       "      <th>release_year</th>\n",
       "      <th>counts</th>\n",
       "    </tr>\n",
       "    <tr>\n",
       "      <th>genres</th>\n",
       "      <th></th>\n",
       "      <th></th>\n",
       "    </tr>\n",
       "  </thead>\n",
       "  <tbody>\n",
       "    <tr>\n",
       "      <th>Drama</th>\n",
       "      <td>1960</td>\n",
       "      <td>10</td>\n",
       "    </tr>\n",
       "    <tr>\n",
       "      <th>Comedy</th>\n",
       "      <td>1960</td>\n",
       "      <td>7</td>\n",
       "    </tr>\n",
       "    <tr>\n",
       "      <th>Horror</th>\n",
       "      <td>1960</td>\n",
       "      <td>7</td>\n",
       "    </tr>\n",
       "    <tr>\n",
       "      <th>Thriller</th>\n",
       "      <td>1960</td>\n",
       "      <td>6</td>\n",
       "    </tr>\n",
       "    <tr>\n",
       "      <th>Action</th>\n",
       "      <td>1960</td>\n",
       "      <td>5</td>\n",
       "    </tr>\n",
       "  </tbody>\n",
       "</table>\n",
       "</div>"
      ],
      "text/plain": [
       "          release_year  counts\n",
       "genres                        \n",
       "Drama             1960      10\n",
       "Comedy            1960       7\n",
       "Horror            1960       7\n",
       "Thriller          1960       6\n",
       "Action            1960       5"
      ]
     },
     "execution_count": 139,
     "metadata": {},
     "output_type": "execute_result"
    }
   ],
   "source": [
    "grouped_data.head()"
   ]
  },
  {
   "cell_type": "code",
   "execution_count": 140,
   "metadata": {},
   "outputs": [
    {
     "data": {
      "text/plain": [
       "release_year\n",
       "1960       Drama\n",
       "1961       Drama\n",
       "1962       Drama\n",
       "1963      Comedy\n",
       "1964       Drama\n",
       "1965       Drama\n",
       "1966      Action\n",
       "1967      Comedy\n",
       "1968       Drama\n",
       "1969       Drama\n",
       "1970       Drama\n",
       "1971       Drama\n",
       "1972       Drama\n",
       "1973       Drama\n",
       "1974    Thriller\n",
       "1975       Drama\n",
       "1976       Drama\n",
       "1977       Drama\n",
       "1978       Drama\n",
       "1979       Drama\n",
       "1980       Drama\n",
       "1981       Drama\n",
       "1982       Drama\n",
       "1983       Drama\n",
       "1984      Comedy\n",
       "1985      Comedy\n",
       "1986      Comedy\n",
       "1987      Comedy\n",
       "1988      Comedy\n",
       "1989      Comedy\n",
       "1990       Drama\n",
       "1991      Comedy\n",
       "1992       Drama\n",
       "1993       Drama\n",
       "1994      Comedy\n",
       "1995       Drama\n",
       "1996       Drama\n",
       "1997      Comedy\n",
       "1998       Drama\n",
       "1999       Drama\n",
       "2000       Drama\n",
       "2001       Drama\n",
       "2002       Drama\n",
       "2003      Comedy\n",
       "2004       Drama\n",
       "2005       Drama\n",
       "2006       Drama\n",
       "2007       Drama\n",
       "2008       Drama\n",
       "2009       Drama\n",
       "2010       Drama\n",
       "2011       Drama\n",
       "2012       Drama\n",
       "2013       Drama\n",
       "2014       Drama\n",
       "2015       Drama\n",
       "Name: counts, dtype: object"
      ]
     },
     "execution_count": 140,
     "metadata": {},
     "output_type": "execute_result"
    }
   ],
   "source": [
    "grouped_data.groupby(['release_year'])['counts'].idxmax()"
   ]
  },
  {
   "cell_type": "markdown",
   "metadata": {},
   "source": [
    "### Drama,Comedy are most popular genres from year to year."
   ]
  },
  {
   "cell_type": "markdown",
   "metadata": {},
   "source": [
    "<a id='q3'></a>\n",
    "> ### 3. In which year most of the movies released?"
   ]
  },
  {
   "cell_type": "code",
   "execution_count": 241,
   "metadata": {},
   "outputs": [
    {
     "data": {
      "text/plain": [
       "2014    384\n",
       "2013    346\n",
       "2015    341\n",
       "2009    306\n",
       "2011    306\n",
       "2012    286\n",
       "2010    279\n",
       "2008    269\n",
       "2007    264\n",
       "2006    260\n",
       "Name: release_year, dtype: int64"
      ]
     },
     "execution_count": 241,
     "metadata": {},
     "output_type": "execute_result"
    }
   ],
   "source": [
    "movies['release_year'].value_counts()[0:10]"
   ]
  },
  {
   "cell_type": "markdown",
   "metadata": {},
   "source": [
    "<a id='q4'></a>\n",
    "> ### 4.What kinds of properties are associated with movies that have high revenues."
   ]
  },
  {
   "cell_type": "markdown",
   "metadata": {},
   "source": [
    "### I am going check if high revenue depends on particular cast,genres, production companies."
   ]
  },
  {
   "cell_type": "code",
   "execution_count": 143,
   "metadata": {},
   "outputs": [],
   "source": [
    "# to calculate gross profit subtract revenue from budget\n",
    "movies['gross_profit_adj'] = movies['revenue_adj'].sub(movies['budget_adj'],axis = 'index')"
   ]
  },
  {
   "cell_type": "markdown",
   "metadata": {},
   "source": [
    "##### To calculate gross profit I have subtracted budget_adj from revenue_adj & as the gross_profit earned in 2006 won't be of same value as 2015 so to have them all on same plane I decided to standardize gross_profit_adj ,revenue_adj & budget_adj."
   ]
  },
  {
   "cell_type": "code",
   "execution_count": 144,
   "metadata": {},
   "outputs": [],
   "source": [
    "#In order to get the proper computations,we should actually be setting the value of the \"ddof\" parameter to 0 in  the .std() function \n",
    "                                              \n",
    "def standardize(df):\n",
    "    return (df - df.mean()) / df.std(ddof = 0) "
   ]
  },
  {
   "cell_type": "code",
   "execution_count": 145,
   "metadata": {},
   "outputs": [],
   "source": [
    "movies[['budget_adj', 'revenue_adj', 'gross_profit_adj']]=movies[['budget_adj',\n",
    "                                                                  'revenue_adj', 'gross_profit_adj']].apply(standardize)"
   ]
  },
  {
   "cell_type": "code",
   "execution_count": 146,
   "metadata": {},
   "outputs": [
    {
     "data": {
      "text/html": [
       "<div>\n",
       "<style scoped>\n",
       "    .dataframe tbody tr th:only-of-type {\n",
       "        vertical-align: middle;\n",
       "    }\n",
       "\n",
       "    .dataframe tbody tr th {\n",
       "        vertical-align: top;\n",
       "    }\n",
       "\n",
       "    .dataframe thead th {\n",
       "        text-align: right;\n",
       "    }\n",
       "</style>\n",
       "<table border=\"1\" class=\"dataframe\">\n",
       "  <thead>\n",
       "    <tr style=\"text-align: right;\">\n",
       "      <th></th>\n",
       "      <th>budget_adj</th>\n",
       "      <th>revenue_adj</th>\n",
       "      <th>gross_profit_adj</th>\n",
       "    </tr>\n",
       "  </thead>\n",
       "  <tbody>\n",
       "    <tr>\n",
       "      <th>0</th>\n",
       "      <td>2.858199</td>\n",
       "      <td>7.605438</td>\n",
       "      <td>7.952752</td>\n",
       "    </tr>\n",
       "    <tr>\n",
       "      <th>1</th>\n",
       "      <td>2.858199</td>\n",
       "      <td>1.570320</td>\n",
       "      <td>1.049307</td>\n",
       "    </tr>\n",
       "    <tr>\n",
       "      <th>2</th>\n",
       "      <td>1.927315</td>\n",
       "      <td>1.127968</td>\n",
       "      <td>0.786583</td>\n",
       "    </tr>\n",
       "    <tr>\n",
       "      <th>3</th>\n",
       "      <td>4.021804</td>\n",
       "      <td>10.554426</td>\n",
       "      <td>11.021947</td>\n",
       "    </tr>\n",
       "    <tr>\n",
       "      <th>4</th>\n",
       "      <td>3.789083</td>\n",
       "      <td>7.566734</td>\n",
       "      <td>7.665206</td>\n",
       "    </tr>\n",
       "  </tbody>\n",
       "</table>\n",
       "</div>"
      ],
      "text/plain": [
       "   budget_adj  revenue_adj  gross_profit_adj\n",
       "0    2.858199     7.605438          7.952752\n",
       "1    2.858199     1.570320          1.049307\n",
       "2    1.927315     1.127968          0.786583\n",
       "3    4.021804    10.554426         11.021947\n",
       "4    3.789083     7.566734          7.665206"
      ]
     },
     "execution_count": 146,
     "metadata": {},
     "output_type": "execute_result"
    }
   ],
   "source": [
    "movies.loc[:,['budget_adj' , 'revenue_adj' , 'gross_profit_adj']].head()"
   ]
  },
  {
   "cell_type": "code",
   "execution_count": 147,
   "metadata": {},
   "outputs": [
    {
     "data": {
      "text/plain": [
       "0"
      ]
     },
     "execution_count": 147,
     "metadata": {},
     "output_type": "execute_result"
    }
   ],
   "source": [
    "movies['gross_profit_adj'].isnull().sum()"
   ]
  },
  {
   "cell_type": "markdown",
   "metadata": {},
   "source": [
    "### As we have added new column gross_profit_adj, I will make a new merge."
   ]
  },
  {
   "cell_type": "code",
   "execution_count": 149,
   "metadata": {},
   "outputs": [],
   "source": [
    "genres_movies = pd.merge(movies , genres , how = 'inner' , on = 'id')"
   ]
  },
  {
   "cell_type": "markdown",
   "metadata": {},
   "source": [
    "> ### 4a. What are the genres contribute to earn higher revenues."
   ]
  },
  {
   "cell_type": "code",
   "execution_count": 150,
   "metadata": {},
   "outputs": [],
   "source": [
    "grouped_by_genres=genres_movies.groupby('genres').sum() #group data by genres"
   ]
  },
  {
   "cell_type": "code",
   "execution_count": 242,
   "metadata": {},
   "outputs": [
    {
     "data": {
      "text/plain": [
       "genres\n",
       "Adventure          569.964398\n",
       "Action             329.563314\n",
       "Family             233.385459\n",
       "Fantasy            226.125156\n",
       "Science Fiction    154.836380\n",
       "Animation          147.089758\n",
       "War                 10.548684\n",
       "Music                3.016685\n",
       "Foreign            -13.567167\n",
       "TV Movie           -20.577806\n",
       "Name: gross_profit_adj, dtype: float64"
      ]
     },
     "execution_count": 242,
     "metadata": {},
     "output_type": "execute_result"
    }
   ],
   "source": [
    "#sort according to gross profit but in a descending order to get highest on the top.\n",
    "grouped_by_genres.sort_values(by = 'gross_profit_adj',ascending = False).loc[:,'gross_profit_adj'][0:10] "
   ]
  },
  {
   "cell_type": "markdown",
   "metadata": {},
   "source": [
    "### I beleive result has got these genres particularly because their budget would be higher as well.I will also check for higher budget genres."
   ]
  },
  {
   "cell_type": "code",
   "execution_count": 227,
   "metadata": {},
   "outputs": [
    {
     "data": {
      "text/plain": [
       "genres\n",
       "Adventure          856.649136\n",
       "Action             769.291714\n",
       "Fantasy            407.156717\n",
       "Science Fiction    316.497753\n",
       "Family             303.500940\n",
       "Animation          184.140714\n",
       "Thriller            66.143253\n",
       "War                 62.249679\n",
       "History             55.974695\n",
       "Crime               17.483855\n",
       "Name: budget_adj, dtype: float64"
      ]
     },
     "execution_count": 227,
     "metadata": {},
     "output_type": "execute_result"
    }
   ],
   "source": [
    "grouped_by_genres.sort_values(by ='budget_adj',ascending = False).loc[:,'budget_adj'][0:10]"
   ]
  },
  {
   "cell_type": "markdown",
   "metadata": {},
   "source": [
    "### It shows my assumption particulary goes right we will also check for the popularity score of top genres."
   ]
  },
  {
   "cell_type": "markdown",
   "metadata": {},
   "source": [
    "### Drama is the most popular genre over the years as we just saw, but it's interesting to see that it couldn't even come in top 10 genres of getting a high revenue"
   ]
  },
  {
   "cell_type": "code",
   "execution_count": 228,
   "metadata": {},
   "outputs": [
    {
     "data": {
      "text/plain": [
       "genres\n",
       "Drama              2283.224109\n",
       "Action             1983.459793\n",
       "Thriller           1892.778160\n",
       "Comedy             1862.520786\n",
       "Adventure          1546.694423\n",
       "Science Fiction    1132.864088\n",
       "Crime               893.750050\n",
       "Romance             827.727583\n",
       "Fantasy             798.536130\n",
       "Family              770.621218\n",
       "Name: popularity, dtype: float64"
      ]
     },
     "execution_count": 228,
     "metadata": {},
     "output_type": "execute_result"
    }
   ],
   "source": [
    "#top genres by popularity score\n",
    "grouped_by_genres.sort_values(by = 'popularity',ascending = False).loc[:,'popularity'][0:10]"
   ]
  },
  {
   "cell_type": "markdown",
   "metadata": {},
   "source": [
    "### Is there any relationship between popularity & Gross Profit ?"
   ]
  },
  {
   "cell_type": "code",
   "execution_count": 249,
   "metadata": {},
   "outputs": [
    {
     "data": {
      "text/plain": [
       "<Figure size 864x648 with 0 Axes>"
      ]
     },
     "metadata": {},
     "output_type": "display_data"
    },
    {
     "data": {
      "image/png": "[encoded data removed]",
      "text/plain": [
       "<Figure size 360x360 with 1 Axes>"
      ]
     },
     "metadata": {
      "needs_background": "light"
     },
     "output_type": "display_data"
    }
   ],
   "source": [
    "plt.figure(figsize = (12,9));\n",
    "sns.lmplot(x = 'gross_profit_adj' , y = 'popularity', data = genres_movies);\n",
    "plt.xlabel('Gross Profit' , fontsize = 18);\n",
    "plt.ylabel('Popularity', fontsize =18);\n",
    "plt.title('Gross Profit Vs popularity',fontsize = 18);"
   ]
  },
  {
   "cell_type": "markdown",
   "metadata": {},
   "source": [
    "># Comment of Gross Profit Vs Popularity figure :\n",
    ">### It looks that the relationship between gross profit & popularity scores is strong enough based on the level of popularity achieved by the movie . We know that whenever the movie is more popular, it should have higher revenues after achieving high sales. So, the relation between popularity and gross profit starts from the amount of sales achieved in the market. the more the popularity the more the sales is achieved. The more the sales, the more the revenues. Hence, the gross profit increases."
   ]
  },
  {
   "cell_type": "markdown",
   "metadata": {},
   "source": [
    "> ### 4b. Who are the directors contributing to high revenue movies?"
   ]
  },
  {
   "cell_type": "code",
   "execution_count": 229,
   "metadata": {},
   "outputs": [
    {
     "data": {
      "text/plain": [
       "director\n",
       "Steven Spielberg     75.433547\n",
       "James Cameron        38.904705\n",
       "George Lucas         36.593911\n",
       "Peter Jackson        33.231827\n",
       "Chris Columbus       24.018536\n",
       "Michael Bay          22.429531\n",
       "Robert Zemeckis      22.218842\n",
       "David Yates          21.079514\n",
       "Christopher Nolan    18.100786\n",
       "J.J. Abrams          16.080426\n",
       "Name: gross_profit_adj, dtype: float64"
      ]
     },
     "execution_count": 229,
     "metadata": {},
     "output_type": "execute_result"
    }
   ],
   "source": [
    "movies.groupby('director').sum().sort_values(by = 'gross_profit_adj',ascending = False)['gross_profit_adj'][0:10]"
   ]
  },
  {
   "cell_type": "markdown",
   "metadata": {},
   "source": [
    "> ### 4c. What are the production comapnies which were able to make high revenues."
   ]
  },
  {
   "cell_type": "code",
   "execution_count": 161,
   "metadata": {},
   "outputs": [],
   "source": [
    "movies_prod_companies = pd.merge(movies,production_companies , how = 'inner', on = 'id')"
   ]
  },
  {
   "cell_type": "code",
   "execution_count": 230,
   "metadata": {},
   "outputs": [
    {
     "data": {
      "text/plain": [
       "production_companies\n",
       "Twentieth Century Fox Film Corporation    165.417214\n",
       "Warner Bros.                              144.769399\n",
       "Universal Pictures                        139.515345\n",
       "Paramount Pictures                        125.319521\n",
       "Walt Disney Pictures                      114.242941\n",
       "Amblin Entertainment                       89.579811\n",
       "Lucasfilm                                  80.385134\n",
       "Eon Productions                            59.785142\n",
       "Heyday Films                               49.050393\n",
       "DreamWorks SKG                             48.196286\n",
       "Name: gross_profit_adj, dtype: float64"
      ]
     },
     "execution_count": 230,
     "metadata": {},
     "output_type": "execute_result"
    }
   ],
   "source": [
    "movies_prod_companies.groupby('production_companies').sum().sort_values(by= 'gross_profit_adj',ascending = False)['gross_profit_adj'][0:10]"
   ]
  },
  {
   "cell_type": "markdown",
   "metadata": {},
   "source": [
    "> ### 4d. What Actors/Actress are able to  make high revenues."
   ]
  },
  {
   "cell_type": "code",
   "execution_count": 163,
   "metadata": {},
   "outputs": [],
   "source": [
    "movies_cast = pd.merge(movies,cast,how = 'inner' , on = 'id')"
   ]
  },
  {
   "cell_type": "code",
   "execution_count": 231,
   "metadata": {},
   "outputs": [
    {
     "data": {
      "text/plain": [
       "cast\n",
       "Harrison Ford       65.579314\n",
       "Carrie Fisher       44.221201\n",
       "Tom Cruise          43.286302\n",
       "Emma Watson         43.023977\n",
       "Mark Hamill         42.829514\n",
       "Rupert Grint        42.027071\n",
       "Daniel Radcliffe    41.989978\n",
       "Tom Hanks           40.369730\n",
       "Ian McKellen        37.664611\n",
       "Orlando Bloom       35.343919\n",
       "Name: gross_profit_adj, dtype: float64"
      ]
     },
     "execution_count": 231,
     "metadata": {},
     "output_type": "execute_result"
    }
   ],
   "source": [
    "movies_cast.groupby('cast').sum().sort_values(by = 'gross_profit_adj',ascending = False)['gross_profit_adj'][0:10]"
   ]
  },
  {
   "cell_type": "markdown",
   "metadata": {},
   "source": [
    "<a id='q5'></a>\n",
    "> ### 5. High Gross profit movies from year to year."
   ]
  },
  {
   "cell_type": "code",
   "execution_count": 167,
   "metadata": {},
   "outputs": [],
   "source": [
    "def sort_by_gross_profit(df):\n",
    "    return df.sort_values(by = 'gross_profit_adj',ascending = False)['original_title'].head(1)"
   ]
  },
  {
   "cell_type": "code",
   "execution_count": 168,
   "metadata": {},
   "outputs": [
    {
     "data": {
      "text/plain": [
       "release_year       \n",
       "1960          10143                                        Spartacus\n",
       "1961          10110                   One Hundred and One Dalmatians\n",
       "1962          9849                                            Dr. No\n",
       "1963          10438                            From Russia With Love\n",
       "1964          9881                                        Goldfinger\n",
       "1965          10690                               The Sound of Music\n",
       "1966          10822                  Who's Afraid of Virginia Woolf?\n",
       "1967          10398                                  The Jungle Book\n",
       "1968          9719                             2001: A Space Odyssey\n",
       "1969          10725               Butch Cassidy and the Sundance Kid\n",
       "1970          10660                                          Airport\n",
       "1971          9925                              Diamonds Are Forever\n",
       "1972          7269                                     The Godfather\n",
       "1973          10594                                     The Exorcist\n",
       "1974          9767                                   Blazing Saddles\n",
       "1975          9806                                              Jaws\n",
       "1976          10174                                            Rocky\n",
       "1977          1329                                         Star Wars\n",
       "1978          10758                                         Superman\n",
       "1979          7833                                          Rocky II\n",
       "1980          7309                           The Empire Strikes Back\n",
       "1981          8375                           Raiders of the Lost Ark\n",
       "1982          8889                        E.T. the Extra-Terrestrial\n",
       "1983          7987                                Return of the Jedi\n",
       "1984          7883              Indiana Jones and the Temple of Doom\n",
       "1985          6081                                Back to the Future\n",
       "1986          10475                                          Top Gun\n",
       "1987          9613                                  Fatal Attraction\n",
       "1988          9454                                          Rain Man\n",
       "1989          9180                Indiana Jones and the Last Crusade\n",
       "1990          9986                                             Ghost\n",
       "1991          9317                        Terminator 2: Judgment Day\n",
       "1992          8243                                           Aladdin\n",
       "1993          10223                                    Jurassic Park\n",
       "1994          4180                                     The Lion King\n",
       "1995          8094                                           The Net\n",
       "1996          8457                                  Independence Day\n",
       "1997          5231                                           Titanic\n",
       "1998          8970                                        Armageddon\n",
       "1999          2412         Star Wars: Episode I - The Phantom Menace\n",
       "2000          8666                            Mission: Impossible II\n",
       "2001          2634          Harry Potter and the Philosopher's Stone\n",
       "2002          3911             The Lord of the Rings: The Two Towers\n",
       "2003          4949     The Lord of the Rings: The Return of the King\n",
       "2004          6977                                           Shrek 2\n",
       "2005          6190               Harry Potter and the Goblet of Fire\n",
       "2006          6555        Pirates of the Caribbean: Dead Man's Chest\n",
       "2007          7388         Harry Potter and the Order of the Phoenix\n",
       "2008          2875                                   The Dark Knight\n",
       "2009          1386                                            Avatar\n",
       "2010          1930                                       Toy Story 3\n",
       "2011          3374      Harry Potter and the Deathly Hallows: Part 2\n",
       "2012          4361                                      The Avengers\n",
       "2013          5422                                            Frozen\n",
       "2014          634          The Hobbit: The Battle of the Five Armies\n",
       "2015          3                         Star Wars: The Force Awakens\n",
       "Name: original_title, dtype: object"
      ]
     },
     "execution_count": 168,
     "metadata": {},
     "output_type": "execute_result"
    }
   ],
   "source": [
    "movies.groupby('release_year').apply(sort_by_gross_profit)"
   ]
  },
  {
   "cell_type": "markdown",
   "metadata": {},
   "source": [
    "<a id='q6'></a>\n",
    "> ### 6. High Budget Movies from year to year."
   ]
  },
  {
   "cell_type": "code",
   "execution_count": 169,
   "metadata": {},
   "outputs": [],
   "source": [
    "def sort_by_budget(df):\n",
    "    return df.sort_values(by = 'budget_adj',ascending = False)['original_title'].head(1)"
   ]
  },
  {
   "cell_type": "code",
   "execution_count": 170,
   "metadata": {},
   "outputs": [
    {
     "data": {
      "text/plain": [
       "release_year       \n",
       "1960          10143                                      Spartacus\n",
       "1961          10112                                West Side Story\n",
       "1962          9850                              Lawrence of Arabia\n",
       "1963          10443                                      Cleopatra\n",
       "1964          9887                                    My Fair Lady\n",
       "1965          10691                                 Doctor Zhivago\n",
       "1966          10824                 The Bible: In the Beginning...\n",
       "1967          10409                                The Dirty Dozen\n",
       "1968          9719                           2001: A Space Odyssey\n",
       "1969          10724                On Her Majesty's Secret Service\n",
       "1970          10656                              Tora! Tora! Tora!\n",
       "1971          9931                        Bedknobs and Broomsticks\n",
       "1972          7269                                   The Godfather\n",
       "1973          10593                                     Robin Hood\n",
       "1974          9785                            The Towering Inferno\n",
       "1975          9836                                  The Hindenburg\n",
       "1976          10218                             The Bad News Bears\n",
       "1977          1364                                        Sorcerer\n",
       "1978          10758                                       Superman\n",
       "1979          7851                                            1941\n",
       "1980          7315                                     Superman II\n",
       "1981          8397                                            Reds\n",
       "1982          8920                                           Annie\n",
       "1983          7993                                  Trading Places\n",
       "1984          7927                                 The Cotton Club\n",
       "1985          6109                          Santa Claus: The Movie\n",
       "1986          10488                                Howard the Duck\n",
       "1987          9598                            The Living Daylights\n",
       "1988          9461                         Who Framed Roger Rabbit\n",
       "1989          9189                                       The Abyss\n",
       "1990          9980                                      Die Hard 2\n",
       "1991          9317                      Terminator 2: Judgment Day\n",
       "1992          8245                                  Batman Returns\n",
       "1993          10230                               Last Action Hero\n",
       "1994          4186                                       True Lies\n",
       "1995          8089                                      Waterworld\n",
       "1996          8467                                          Eraser\n",
       "1997          5231                                         Titanic\n",
       "1998          8970                                      Armageddon\n",
       "1999          2434                                  Wild Wild West\n",
       "2000          8671                                        Dinosaur\n",
       "2001          2642                                    Pearl Harbor\n",
       "2002          3925                                 Treasure Planet\n",
       "2003          4959              Terminator 3: Rise of the Machines\n",
       "2004          7012                                    Spider-Man 2\n",
       "2005          6215                                       King Kong\n",
       "2006          6883                           X-Men: The Last Stand\n",
       "2007          7387        Pirates of the Caribbean: At World's End\n",
       "2008          2902        The Chronicles of Narnia: Prince Caspian\n",
       "2009          1389          Harry Potter and the Half-Blood Prince\n",
       "2010          2244                               The Warrior's Way\n",
       "2011          3375     Pirates of the Caribbean: On Stranger Tides\n",
       "2012          4411                                     John Carter\n",
       "2013          5508                                 The Lone Ranger\n",
       "2014          634        The Hobbit: The Battle of the Five Armies\n",
       "2015          14                           Avengers: Age of Ultron\n",
       "Name: original_title, dtype: object"
      ]
     },
     "execution_count": 170,
     "metadata": {},
     "output_type": "execute_result"
    }
   ],
   "source": [
    "movies.groupby('release_year').apply(sort_by_budget)"
   ]
  },
  {
   "cell_type": "markdown",
   "metadata": {},
   "source": [
    "<a id='q7'></a>\n",
    "> ### 7. What are the months when most of the movies released?"
   ]
  },
  {
   "cell_type": "code",
   "execution_count": 243,
   "metadata": {},
   "outputs": [
    {
     "data": {
      "text/plain": [
       "9     852\n",
       "10    722\n",
       "12    654\n",
       "8     622\n",
       "6     584\n",
       "7     559\n",
       "3     542\n",
       "5     538\n",
       "4     514\n",
       "1     505\n",
       "Name: release_month, dtype: int64"
      ]
     },
     "execution_count": 243,
     "metadata": {},
     "output_type": "execute_result"
    }
   ],
   "source": [
    "movies['release_month'].value_counts()[0:10]"
   ]
  },
  {
   "cell_type": "markdown",
   "metadata": {},
   "source": [
    "<a id='q8'></a>\n",
    "> ### 8. As per popularity score which actor / actress is most famous?"
   ]
  },
  {
   "cell_type": "code",
   "execution_count": 172,
   "metadata": {},
   "outputs": [],
   "source": [
    "movies_cast = pd.merge(movies , cast , how = 'inner' , on= 'id') #Merge movies cast DataFrame on id"
   ]
  },
  {
   "cell_type": "code",
   "execution_count": 232,
   "metadata": {},
   "outputs": [
    {
     "data": {
      "text/plain": [
       "cast\n",
       "Samuel L. Jackson     88.144279\n",
       "Michael Caine         78.459613\n",
       "Harrison Ford         77.624573\n",
       "Bruce Willis          74.199843\n",
       "Brad Pitt             72.921414\n",
       "Robert De Niro        72.456620\n",
       "Johnny Depp           69.035061\n",
       "Scarlett Johansson    67.062965\n",
       "Tom Hanks             65.203088\n",
       "Tom Hardy             64.620653\n",
       "Name: popularity, dtype: float64"
      ]
     },
     "execution_count": 232,
     "metadata": {},
     "output_type": "execute_result"
    }
   ],
   "source": [
    "movies_cast.groupby('cast').sum().sort_values(by = 'popularity' , ascending = False ).loc[:,'popularity'][0:10]"
   ]
  },
  {
   "cell_type": "markdown",
   "metadata": {},
   "source": [
    "<a id='q9'></a>\n",
    "> ### 9. As per popularity score which movie is most famous?"
   ]
  },
  {
   "cell_type": "code",
   "execution_count": 233,
   "metadata": {},
   "outputs": [
    {
     "data": {
      "text/html": [
       "<div>\n",
       "<style scoped>\n",
       "    .dataframe tbody tr th:only-of-type {\n",
       "        vertical-align: middle;\n",
       "    }\n",
       "\n",
       "    .dataframe tbody tr th {\n",
       "        vertical-align: top;\n",
       "    }\n",
       "\n",
       "    .dataframe thead th {\n",
       "        text-align: right;\n",
       "    }\n",
       "</style>\n",
       "<table border=\"1\" class=\"dataframe\">\n",
       "  <thead>\n",
       "    <tr style=\"text-align: right;\">\n",
       "      <th></th>\n",
       "      <th>popularity</th>\n",
       "      <th>original_title</th>\n",
       "    </tr>\n",
       "  </thead>\n",
       "  <tbody>\n",
       "    <tr>\n",
       "      <th>0</th>\n",
       "      <td>32.985763</td>\n",
       "      <td>Jurassic World</td>\n",
       "    </tr>\n",
       "    <tr>\n",
       "      <th>1</th>\n",
       "      <td>28.419936</td>\n",
       "      <td>Mad Max: Fury Road</td>\n",
       "    </tr>\n",
       "    <tr>\n",
       "      <th>629</th>\n",
       "      <td>24.949134</td>\n",
       "      <td>Interstellar</td>\n",
       "    </tr>\n",
       "    <tr>\n",
       "      <th>630</th>\n",
       "      <td>14.311205</td>\n",
       "      <td>Guardians of the Galaxy</td>\n",
       "    </tr>\n",
       "    <tr>\n",
       "      <th>2</th>\n",
       "      <td>13.112507</td>\n",
       "      <td>Insurgent</td>\n",
       "    </tr>\n",
       "    <tr>\n",
       "      <th>631</th>\n",
       "      <td>12.971027</td>\n",
       "      <td>Captain America: The Winter Soldier</td>\n",
       "    </tr>\n",
       "    <tr>\n",
       "      <th>1329</th>\n",
       "      <td>12.037933</td>\n",
       "      <td>Star Wars</td>\n",
       "    </tr>\n",
       "    <tr>\n",
       "      <th>632</th>\n",
       "      <td>11.422751</td>\n",
       "      <td>John Wick</td>\n",
       "    </tr>\n",
       "    <tr>\n",
       "      <th>3</th>\n",
       "      <td>11.173104</td>\n",
       "      <td>Star Wars: The Force Awakens</td>\n",
       "    </tr>\n",
       "    <tr>\n",
       "      <th>633</th>\n",
       "      <td>10.739009</td>\n",
       "      <td>The Hunger Games: Mockingjay - Part 1</td>\n",
       "    </tr>\n",
       "  </tbody>\n",
       "</table>\n",
       "</div>"
      ],
      "text/plain": [
       "      popularity                         original_title\n",
       "0      32.985763                         Jurassic World\n",
       "1      28.419936                     Mad Max: Fury Road\n",
       "629    24.949134                           Interstellar\n",
       "630    14.311205                Guardians of the Galaxy\n",
       "2      13.112507                              Insurgent\n",
       "631    12.971027    Captain America: The Winter Soldier\n",
       "1329   12.037933                              Star Wars\n",
       "632    11.422751                              John Wick\n",
       "3      11.173104           Star Wars: The Force Awakens\n",
       "633    10.739009  The Hunger Games: Mockingjay - Part 1"
      ]
     },
     "execution_count": 233,
     "metadata": {},
     "output_type": "execute_result"
    }
   ],
   "source": [
    "movies.sort_values(by = 'popularity', ascending = False).loc[:,['popularity','original_title']][0:10]"
   ]
  },
  {
   "cell_type": "markdown",
   "metadata": {},
   "source": [
    "<a id='q10'></a>\n",
    "> ### 10. As per Average vote score which movie is most famous?"
   ]
  },
  {
   "cell_type": "code",
   "execution_count": 234,
   "metadata": {},
   "outputs": [
    {
     "data": {
      "text/html": [
       "<div>\n",
       "<style scoped>\n",
       "    .dataframe tbody tr th:only-of-type {\n",
       "        vertical-align: middle;\n",
       "    }\n",
       "\n",
       "    .dataframe tbody tr th {\n",
       "        vertical-align: top;\n",
       "    }\n",
       "\n",
       "    .dataframe thead th {\n",
       "        text-align: right;\n",
       "    }\n",
       "</style>\n",
       "<table border=\"1\" class=\"dataframe\">\n",
       "  <thead>\n",
       "    <tr style=\"text-align: right;\">\n",
       "      <th></th>\n",
       "      <th>vote_average</th>\n",
       "      <th>original_title</th>\n",
       "    </tr>\n",
       "  </thead>\n",
       "  <tbody>\n",
       "    <tr>\n",
       "      <th>609</th>\n",
       "      <td>8.4</td>\n",
       "      <td>The Jinx: The Life and Deaths of Robert Durst</td>\n",
       "    </tr>\n",
       "    <tr>\n",
       "      <th>7948</th>\n",
       "      <td>8.4</td>\n",
       "      <td>Stop Making Sense</td>\n",
       "    </tr>\n",
       "    <tr>\n",
       "      <th>4178</th>\n",
       "      <td>8.4</td>\n",
       "      <td>The Shawshank Redemption</td>\n",
       "    </tr>\n",
       "    <tr>\n",
       "      <th>7269</th>\n",
       "      <td>8.3</td>\n",
       "      <td>The Godfather</td>\n",
       "    </tr>\n",
       "    <tr>\n",
       "      <th>9315</th>\n",
       "      <td>8.2</td>\n",
       "      <td>For All Mankind</td>\n",
       "    </tr>\n",
       "    <tr>\n",
       "      <th>650</th>\n",
       "      <td>8.2</td>\n",
       "      <td>Whiplash</td>\n",
       "    </tr>\n",
       "    <tr>\n",
       "      <th>4179</th>\n",
       "      <td>8.1</td>\n",
       "      <td>Forrest Gump</td>\n",
       "    </tr>\n",
       "    <tr>\n",
       "      <th>9758</th>\n",
       "      <td>8.1</td>\n",
       "      <td>The Godfather: Part II</td>\n",
       "    </tr>\n",
       "    <tr>\n",
       "      <th>4177</th>\n",
       "      <td>8.1</td>\n",
       "      <td>Pulp Fiction</td>\n",
       "    </tr>\n",
       "    <tr>\n",
       "      <th>2389</th>\n",
       "      <td>8.1</td>\n",
       "      <td>Bill Cunningham New York</td>\n",
       "    </tr>\n",
       "  </tbody>\n",
       "</table>\n",
       "</div>"
      ],
      "text/plain": [
       "      vote_average                                 original_title\n",
       "609            8.4  The Jinx: The Life and Deaths of Robert Durst\n",
       "7948           8.4                              Stop Making Sense\n",
       "4178           8.4                       The Shawshank Redemption\n",
       "7269           8.3                                  The Godfather\n",
       "9315           8.2                                For All Mankind\n",
       "650            8.2                                       Whiplash\n",
       "4179           8.1                                   Forrest Gump\n",
       "9758           8.1                         The Godfather: Part II\n",
       "4177           8.1                                   Pulp Fiction\n",
       "2389           8.1                       Bill Cunningham New York"
      ]
     },
     "execution_count": 234,
     "metadata": {},
     "output_type": "execute_result"
    }
   ],
   "source": [
    "movies.sort_values(by = 'vote_average' ,ascending = False).loc[:,['vote_average','original_title']][0:10]"
   ]
  },
  {
   "cell_type": "markdown",
   "metadata": {},
   "source": [
    "<a id='q11'></a>\n",
    "> ### 11. As per Average vote score which Actor/Actress is most famous?"
   ]
  },
  {
   "cell_type": "code",
   "execution_count": 244,
   "metadata": {},
   "outputs": [
    {
     "data": {
      "text/html": [
       "<div>\n",
       "<style scoped>\n",
       "    .dataframe tbody tr th:only-of-type {\n",
       "        vertical-align: middle;\n",
       "    }\n",
       "\n",
       "    .dataframe tbody tr th {\n",
       "        vertical-align: top;\n",
       "    }\n",
       "\n",
       "    .dataframe thead th {\n",
       "        text-align: right;\n",
       "    }\n",
       "</style>\n",
       "<table border=\"1\" class=\"dataframe\">\n",
       "  <thead>\n",
       "    <tr style=\"text-align: right;\">\n",
       "      <th></th>\n",
       "      <th>vote_average</th>\n",
       "      <th>cast</th>\n",
       "    </tr>\n",
       "  </thead>\n",
       "  <tbody>\n",
       "    <tr>\n",
       "      <th>23609</th>\n",
       "      <td>8.4</td>\n",
       "      <td>Jerry Harrison</td>\n",
       "    </tr>\n",
       "    <tr>\n",
       "      <th>1643</th>\n",
       "      <td>8.4</td>\n",
       "      <td>Lynda Obst</td>\n",
       "    </tr>\n",
       "    <tr>\n",
       "      <th>12069</th>\n",
       "      <td>8.4</td>\n",
       "      <td>William Sadler</td>\n",
       "    </tr>\n",
       "    <tr>\n",
       "      <th>12068</th>\n",
       "      <td>8.4</td>\n",
       "      <td>Bob Gunton</td>\n",
       "    </tr>\n",
       "    <tr>\n",
       "      <th>23610</th>\n",
       "      <td>8.4</td>\n",
       "      <td>Steven Scales</td>\n",
       "    </tr>\n",
       "    <tr>\n",
       "      <th>12070</th>\n",
       "      <td>8.4</td>\n",
       "      <td>Clancy Brown</td>\n",
       "    </tr>\n",
       "    <tr>\n",
       "      <th>12067</th>\n",
       "      <td>8.4</td>\n",
       "      <td>Morgan Freeman</td>\n",
       "    </tr>\n",
       "    <tr>\n",
       "      <th>12066</th>\n",
       "      <td>8.4</td>\n",
       "      <td>Tim Robbins</td>\n",
       "    </tr>\n",
       "    <tr>\n",
       "      <th>23606</th>\n",
       "      <td>8.4</td>\n",
       "      <td>David Byrne</td>\n",
       "    </tr>\n",
       "    <tr>\n",
       "      <th>1639</th>\n",
       "      <td>8.4</td>\n",
       "      <td>Robert Durst</td>\n",
       "    </tr>\n",
       "  </tbody>\n",
       "</table>\n",
       "</div>"
      ],
      "text/plain": [
       "       vote_average            cast\n",
       "23609           8.4  Jerry Harrison\n",
       "1643            8.4      Lynda Obst\n",
       "12069           8.4  William Sadler\n",
       "12068           8.4      Bob Gunton\n",
       "23610           8.4   Steven Scales\n",
       "12070           8.4    Clancy Brown\n",
       "12067           8.4  Morgan Freeman\n",
       "12066           8.4     Tim Robbins\n",
       "23606           8.4     David Byrne\n",
       "1639            8.4    Robert Durst"
      ]
     },
     "execution_count": 244,
     "metadata": {},
     "output_type": "execute_result"
    }
   ],
   "source": [
    "movies_cast.sort_values(by = 'vote_average' ,ascending = False).loc[:,['vote_average','cast']][0:10]"
   ]
  },
  {
   "cell_type": "markdown",
   "metadata": {},
   "source": [
    "<a id='q12'></a>\n",
    "> ### 12. Movies which have earned highest revenue."
   ]
  },
  {
   "cell_type": "code",
   "execution_count": 235,
   "metadata": {},
   "outputs": [
    {
     "data": {
      "text/html": [
       "<div>\n",
       "<style scoped>\n",
       "    .dataframe tbody tr th:only-of-type {\n",
       "        vertical-align: middle;\n",
       "    }\n",
       "\n",
       "    .dataframe tbody tr th {\n",
       "        vertical-align: top;\n",
       "    }\n",
       "\n",
       "    .dataframe thead th {\n",
       "        text-align: right;\n",
       "    }\n",
       "</style>\n",
       "<table border=\"1\" class=\"dataframe\">\n",
       "  <thead>\n",
       "    <tr style=\"text-align: right;\">\n",
       "      <th></th>\n",
       "      <th>gross_profit_adj</th>\n",
       "      <th>original_title</th>\n",
       "    </tr>\n",
       "  </thead>\n",
       "  <tbody>\n",
       "    <tr>\n",
       "      <th>1329</th>\n",
       "      <td>17.840305</td>\n",
       "      <td>Star Wars</td>\n",
       "    </tr>\n",
       "    <tr>\n",
       "      <th>1386</th>\n",
       "      <td>16.756813</td>\n",
       "      <td>Avatar</td>\n",
       "    </tr>\n",
       "    <tr>\n",
       "      <th>5231</th>\n",
       "      <td>14.433001</td>\n",
       "      <td>Titanic</td>\n",
       "    </tr>\n",
       "    <tr>\n",
       "      <th>10594</th>\n",
       "      <td>13.727786</td>\n",
       "      <td>The Exorcist</td>\n",
       "    </tr>\n",
       "    <tr>\n",
       "      <th>9806</th>\n",
       "      <td>12.079128</td>\n",
       "      <td>Jaws</td>\n",
       "    </tr>\n",
       "    <tr>\n",
       "      <th>8889</th>\n",
       "      <td>11.347489</td>\n",
       "      <td>E.T. the Extra-Terrestrial</td>\n",
       "    </tr>\n",
       "    <tr>\n",
       "      <th>3</th>\n",
       "      <td>11.021947</td>\n",
       "      <td>Star Wars: The Force Awakens</td>\n",
       "    </tr>\n",
       "    <tr>\n",
       "      <th>8094</th>\n",
       "      <td>9.916937</td>\n",
       "      <td>The Net</td>\n",
       "    </tr>\n",
       "    <tr>\n",
       "      <th>10110</th>\n",
       "      <td>9.877715</td>\n",
       "      <td>One Hundred and One Dalmatians</td>\n",
       "    </tr>\n",
       "    <tr>\n",
       "      <th>7309</th>\n",
       "      <td>8.762903</td>\n",
       "      <td>The Empire Strikes Back</td>\n",
       "    </tr>\n",
       "  </tbody>\n",
       "</table>\n",
       "</div>"
      ],
      "text/plain": [
       "       gross_profit_adj                  original_title\n",
       "1329          17.840305                       Star Wars\n",
       "1386          16.756813                          Avatar\n",
       "5231          14.433001                         Titanic\n",
       "10594         13.727786                    The Exorcist\n",
       "9806          12.079128                            Jaws\n",
       "8889          11.347489      E.T. the Extra-Terrestrial\n",
       "3             11.021947    Star Wars: The Force Awakens\n",
       "8094           9.916937                         The Net\n",
       "10110          9.877715  One Hundred and One Dalmatians\n",
       "7309           8.762903         The Empire Strikes Back"
      ]
     },
     "execution_count": 235,
     "metadata": {},
     "output_type": "execute_result"
    }
   ],
   "source": [
    "movies.sort_values(by = 'gross_profit_adj',ascending = False).loc[:,['gross_profit_adj', 'original_title']][0:10]"
   ]
  },
  {
   "cell_type": "markdown",
   "metadata": {},
   "source": [
    "<a id='q13'></a>\n",
    "> ### 13. Most Frequent Runtime of movies "
   ]
  },
  {
   "cell_type": "code",
   "execution_count": 254,
   "metadata": {},
   "outputs": [
    {
     "data": {
      "image/png": "[encoded data removed]",
      "text/plain": [
       "<Figure size 432x288 with 1 Axes>"
      ]
     },
     "metadata": {
      "needs_background": "light"
     },
     "output_type": "display_data"
    }
   ],
   "source": [
    "sns.kdeplot(movies['runtime'], shade = True, color = 'g');\n",
    "plt.xlabel('Runtime in seconds',fontsize = 18);\n",
    "plt.ylabel('frequency per all movies in dataset', fontsize =14);\n",
    "plt.title('Most Frequent Runtime of movies', fontsize = 18);"
   ]
  },
  {
   "cell_type": "code",
   "execution_count": 255,
   "metadata": {
    "scrolled": true
   },
   "outputs": [
    {
     "data": {
      "image/png": "[encoded data removed]",
      "text/plain": [
       "<Figure size 432x288 with 1 Axes>"
      ]
     },
     "metadata": {
      "needs_background": "light"
     },
     "output_type": "display_data"
    }
   ],
   "source": [
    "binval = np.arange(0,200,5)\n",
    "plt.hist(movies['runtime'],bins = binval);\n",
    "plt.xlabel('Runtime in seconds',fontsize = 18);\n",
    "plt.ylabel('frequency per all movies in dataset', fontsize =14);\n",
    "plt.title('Most Frequent Runtime of movies', fontsize = 18);"
   ]
  },
  {
   "cell_type": "markdown",
   "metadata": {},
   "source": [
    ">## Comment on figure of Most Frequent Runtime of movies:\n",
    ">### According to runtime column in tmdb dataset and from the previous histograms, Most Frequent Runtime of movies, depending on  [ kdeplot() & hist() functions of seaborn library]  , it looks that the movie runtime is almost between 90 secs to 200 secs. However, there are a few cases where the runtime value had reached 300 secs or increased, or decreased than 90 secs to reach 43 secs and 62 secs."
   ]
  },
  {
   "cell_type": "markdown",
   "metadata": {},
   "source": [
    "<a id='q14'></a>\n",
    "> ### 14. Most famous action directors"
   ]
  },
  {
   "cell_type": "code",
   "execution_count": 185,
   "metadata": {},
   "outputs": [],
   "source": [
    "action=genres_movies[genres_movies['genres'] == 'Action'] #filter dataframe by Action Genre"
   ]
  },
  {
   "cell_type": "code",
   "execution_count": 236,
   "metadata": {},
   "outputs": [
    {
     "data": {
      "text/plain": [
       "director\n",
       "George Lucas         33.506443\n",
       "Peter Jackson        26.805140\n",
       "James Cameron        24.780044\n",
       "Steven Spielberg     21.030381\n",
       "Michael Bay          20.252172\n",
       "Roland Emmerich      16.090665\n",
       "Guy Hamilton         15.681047\n",
       "Christopher Nolan    15.381549\n",
       "J.J. Abrams          15.074054\n",
       "Joss Whedon          13.980535\n",
       "Name: gross_profit_adj, dtype: float64"
      ]
     },
     "execution_count": 236,
     "metadata": {},
     "output_type": "execute_result"
    }
   ],
   "source": [
    "#Use groupby to sum up by director & then sort by gross profit in descending order \n",
    "action.groupby('director').sum().sort_values(by = 'gross_profit_adj',ascending = False)['gross_profit_adj'][0:10]"
   ]
  },
  {
   "cell_type": "markdown",
   "metadata": {},
   "source": [
    "<a id='q15'></a>\n",
    "> ### 15. Most famous Actors in Action genre. "
   ]
  },
  {
   "cell_type": "code",
   "execution_count": 187,
   "metadata": {},
   "outputs": [],
   "source": [
    "genres_movies_cast = pd.merge(genres_movies,cast,how = 'inner', on = 'id') #merge dataframe genre_movies & cast"
   ]
  },
  {
   "cell_type": "code",
   "execution_count": 188,
   "metadata": {},
   "outputs": [],
   "source": [
    "#filter data by Action genere\n",
    "action_cast=genres_movies_cast[genres_movies_cast['genres'] == 'Action']"
   ]
  },
  {
   "cell_type": "code",
   "execution_count": 237,
   "metadata": {},
   "outputs": [
    {
     "data": {
      "text/plain": [
       "cast\n",
       "Harrison Ford            61.072100\n",
       "Samuel L. Jackson        53.610413\n",
       "Arnold Schwarzenegger    52.866660\n",
       "Tom Hardy                48.581000\n",
       "Jason Statham            47.446214\n",
       "Chris Pratt              47.296968\n",
       "Chris Evans              46.219419\n",
       "Orlando Bloom            43.405702\n",
       "Bruce Willis             42.707748\n",
       "Scarlett Johansson       42.199309\n",
       "Name: popularity, dtype: float64"
      ]
     },
     "execution_count": 237,
     "metadata": {},
     "output_type": "execute_result"
    }
   ],
   "source": [
    "#group the data by cast take sum of it & then sort it accoring to popularity score in descending order.\n",
    "action_cast.groupby('cast').sum().sort_values(by = 'popularity', ascending = False)['popularity'][0:10]"
   ]
  },
  {
   "cell_type": "code",
   "execution_count": 190,
   "metadata": {},
   "outputs": [],
   "source": [
    "genres_cast = pd.merge(genres,cast, how = 'inner', on = 'id')"
   ]
  },
  {
   "cell_type": "markdown",
   "metadata": {},
   "source": [
    "<a id='q16'></a>\n",
    "> ### 16. Which production companies have made most of the movies"
   ]
  },
  {
   "cell_type": "code",
   "execution_count": 238,
   "metadata": {},
   "outputs": [
    {
     "data": {
      "text/plain": [
       "Warner Bros.                              458\n",
       "Universal Pictures                        456\n",
       "Paramount Pictures                        390\n",
       "Twentieth Century Fox Film Corporation    262\n",
       "Columbia Pictures                         253\n",
       "New Line Cinema                           199\n",
       "Metro-Goldwyn-Mayer (MGM)                 194\n",
       "Walt Disney Pictures                      159\n",
       "Touchstone Pictures                       154\n",
       "Columbia Pictures Corporation             144\n",
       "Name: production_companies, dtype: int64"
      ]
     },
     "execution_count": 238,
     "metadata": {},
     "output_type": "execute_result"
    }
   ],
   "source": [
    "movies_prod_companies['production_companies'].value_counts()[0:10]"
   ]
  },
  {
   "cell_type": "markdown",
   "metadata": {},
   "source": [
    "<a id='q17'></a>\n",
    "> ### 17.Most frequent Keywords used in every genres."
   ]
  },
  {
   "cell_type": "code",
   "execution_count": 192,
   "metadata": {},
   "outputs": [],
   "source": [
    "movies_key = pd.merge(movies , keywords , how = 'inner' , on = 'id')"
   ]
  },
  {
   "cell_type": "markdown",
   "metadata": {},
   "source": [
    "### I have merged two DataFrames for answering question num 17."
   ]
  },
  {
   "cell_type": "code",
   "execution_count": 194,
   "metadata": {},
   "outputs": [],
   "source": [
    "genres_keywords = pd.merge(genres , keywords , how = 'inner', on = 'id')"
   ]
  },
  {
   "cell_type": "code",
   "execution_count": 195,
   "metadata": {},
   "outputs": [
    {
     "data": {
      "text/html": [
       "<div>\n",
       "<style scoped>\n",
       "    .dataframe tbody tr th:only-of-type {\n",
       "        vertical-align: middle;\n",
       "    }\n",
       "\n",
       "    .dataframe tbody tr th {\n",
       "        vertical-align: top;\n",
       "    }\n",
       "\n",
       "    .dataframe thead th {\n",
       "        text-align: right;\n",
       "    }\n",
       "</style>\n",
       "<table border=\"1\" class=\"dataframe\">\n",
       "  <thead>\n",
       "    <tr style=\"text-align: right;\">\n",
       "      <th></th>\n",
       "      <th>id</th>\n",
       "      <th>genres</th>\n",
       "      <th>keywords</th>\n",
       "    </tr>\n",
       "  </thead>\n",
       "  <tbody>\n",
       "    <tr>\n",
       "      <th>0</th>\n",
       "      <td>135397</td>\n",
       "      <td>Action</td>\n",
       "      <td>monster</td>\n",
       "    </tr>\n",
       "    <tr>\n",
       "      <th>1</th>\n",
       "      <td>135397</td>\n",
       "      <td>Action</td>\n",
       "      <td>dna</td>\n",
       "    </tr>\n",
       "    <tr>\n",
       "      <th>2</th>\n",
       "      <td>135397</td>\n",
       "      <td>Action</td>\n",
       "      <td>tyrannosaurus rex</td>\n",
       "    </tr>\n",
       "    <tr>\n",
       "      <th>3</th>\n",
       "      <td>135397</td>\n",
       "      <td>Action</td>\n",
       "      <td>velociraptor</td>\n",
       "    </tr>\n",
       "    <tr>\n",
       "      <th>4</th>\n",
       "      <td>135397</td>\n",
       "      <td>Action</td>\n",
       "      <td>island</td>\n",
       "    </tr>\n",
       "    <tr>\n",
       "      <th>5</th>\n",
       "      <td>135397</td>\n",
       "      <td>Adventure</td>\n",
       "      <td>monster</td>\n",
       "    </tr>\n",
       "    <tr>\n",
       "      <th>6</th>\n",
       "      <td>135397</td>\n",
       "      <td>Adventure</td>\n",
       "      <td>dna</td>\n",
       "    </tr>\n",
       "    <tr>\n",
       "      <th>7</th>\n",
       "      <td>135397</td>\n",
       "      <td>Adventure</td>\n",
       "      <td>tyrannosaurus rex</td>\n",
       "    </tr>\n",
       "    <tr>\n",
       "      <th>8</th>\n",
       "      <td>135397</td>\n",
       "      <td>Adventure</td>\n",
       "      <td>velociraptor</td>\n",
       "    </tr>\n",
       "    <tr>\n",
       "      <th>9</th>\n",
       "      <td>135397</td>\n",
       "      <td>Adventure</td>\n",
       "      <td>island</td>\n",
       "    </tr>\n",
       "    <tr>\n",
       "      <th>10</th>\n",
       "      <td>135397</td>\n",
       "      <td>Science Fiction</td>\n",
       "      <td>monster</td>\n",
       "    </tr>\n",
       "    <tr>\n",
       "      <th>11</th>\n",
       "      <td>135397</td>\n",
       "      <td>Science Fiction</td>\n",
       "      <td>dna</td>\n",
       "    </tr>\n",
       "    <tr>\n",
       "      <th>12</th>\n",
       "      <td>135397</td>\n",
       "      <td>Science Fiction</td>\n",
       "      <td>tyrannosaurus rex</td>\n",
       "    </tr>\n",
       "    <tr>\n",
       "      <th>13</th>\n",
       "      <td>135397</td>\n",
       "      <td>Science Fiction</td>\n",
       "      <td>velociraptor</td>\n",
       "    </tr>\n",
       "    <tr>\n",
       "      <th>14</th>\n",
       "      <td>135397</td>\n",
       "      <td>Science Fiction</td>\n",
       "      <td>island</td>\n",
       "    </tr>\n",
       "    <tr>\n",
       "      <th>15</th>\n",
       "      <td>135397</td>\n",
       "      <td>Thriller</td>\n",
       "      <td>monster</td>\n",
       "    </tr>\n",
       "    <tr>\n",
       "      <th>16</th>\n",
       "      <td>135397</td>\n",
       "      <td>Thriller</td>\n",
       "      <td>dna</td>\n",
       "    </tr>\n",
       "    <tr>\n",
       "      <th>17</th>\n",
       "      <td>135397</td>\n",
       "      <td>Thriller</td>\n",
       "      <td>tyrannosaurus rex</td>\n",
       "    </tr>\n",
       "    <tr>\n",
       "      <th>18</th>\n",
       "      <td>135397</td>\n",
       "      <td>Thriller</td>\n",
       "      <td>velociraptor</td>\n",
       "    </tr>\n",
       "    <tr>\n",
       "      <th>19</th>\n",
       "      <td>135397</td>\n",
       "      <td>Thriller</td>\n",
       "      <td>island</td>\n",
       "    </tr>\n",
       "  </tbody>\n",
       "</table>\n",
       "</div>"
      ],
      "text/plain": [
       "        id           genres           keywords\n",
       "0   135397           Action            monster\n",
       "1   135397           Action                dna\n",
       "2   135397           Action  tyrannosaurus rex\n",
       "3   135397           Action       velociraptor\n",
       "4   135397           Action             island\n",
       "5   135397        Adventure            monster\n",
       "6   135397        Adventure                dna\n",
       "7   135397        Adventure  tyrannosaurus rex\n",
       "8   135397        Adventure       velociraptor\n",
       "9   135397        Adventure             island\n",
       "10  135397  Science Fiction            monster\n",
       "11  135397  Science Fiction                dna\n",
       "12  135397  Science Fiction  tyrannosaurus rex\n",
       "13  135397  Science Fiction       velociraptor\n",
       "14  135397  Science Fiction             island\n",
       "15  135397         Thriller            monster\n",
       "16  135397         Thriller                dna\n",
       "17  135397         Thriller  tyrannosaurus rex\n",
       "18  135397         Thriller       velociraptor\n",
       "19  135397         Thriller             island"
      ]
     },
     "execution_count": 195,
     "metadata": {},
     "output_type": "execute_result"
    }
   ],
   "source": [
    "genres_keywords.head(20)"
   ]
  },
  {
   "cell_type": "markdown",
   "metadata": {},
   "source": [
    "\n",
    "###  Most common keywords used in all the genres"
   ]
  },
  {
   "cell_type": "code",
   "execution_count": 239,
   "metadata": {},
   "outputs": [
    {
     "data": {
      "text/plain": [
       "based on novel          245\n",
       "independent film        245\n",
       "sex                     239\n",
       "woman director          187\n",
       "murder                  172\n",
       "sport                   161\n",
       "nudity                  135\n",
       "new york                131\n",
       "duringcreditsstinger    128\n",
       "female nudity           127\n",
       "Name: keywords, dtype: int64"
      ]
     },
     "execution_count": 239,
     "metadata": {},
     "output_type": "execute_result"
    }
   ],
   "source": [
    "keywords['keywords'].value_counts()[0:10]"
   ]
  },
  {
   "cell_type": "markdown",
   "metadata": {},
   "source": [
    "### It would be good idea to the keywords in visualization for better understanding.I will do that in further sections"
   ]
  },
  {
   "cell_type": "markdown",
   "metadata": {},
   "source": [
    "<a id='q18'></a>\n",
    "> ### 18. Older or newer movies get more popularity score "
   ]
  },
  {
   "cell_type": "code",
   "execution_count": 197,
   "metadata": {},
   "outputs": [],
   "source": [
    "#group data by release year take the median of all the numeric columns\n",
    "groupby_year=movies.groupby('release_year').median()"
   ]
  },
  {
   "cell_type": "code",
   "execution_count": 198,
   "metadata": {},
   "outputs": [],
   "source": [
    "#get release year column back into dataframe for visualization\n",
    "groupby_year['release_year'] = groupby_year.index.get_level_values(0)"
   ]
  },
  {
   "cell_type": "code",
   "execution_count": 199,
   "metadata": {},
   "outputs": [
    {
     "data": {
      "text/plain": [
       "<Figure size 936x648 with 0 Axes>"
      ]
     },
     "metadata": {},
     "output_type": "display_data"
    },
    {
     "data": {
      "image/png": "[encoded data removed]",
      "text/plain": [
       "<Figure size 360x360 with 1 Axes>"
      ]
     },
     "metadata": {
      "needs_background": "light"
     },
     "output_type": "display_data"
    }
   ],
   "source": [
    "plt.figure(figsize = (13,9)) #set a figure size\n",
    "sns.lmplot(x = 'release_year', y = 'popularity', data = groupby_year); #plot a lineplot \n",
    "#gives names to x-axis , y-axis & the title\n",
    "plt.xlabel('Release Year', fontsize = 15); \n",
    "plt.ylabel('Popularity', fontsize = 15);\n",
    "plt.title('Release Year Vs Popularity ',fontsize = 15);"
   ]
  },
  {
   "cell_type": "markdown",
   "metadata": {},
   "source": [
    "># Comment of Release Year Vs Popularity figure :\n",
    ">### According to the last visulaization, it's clearly appear that the popularity of the movie differ according to the release year. The recently released movies are more popular than the older ones. This may happen due to the recent changes in social media and the different types of used channels which deliver the movies to the followers via Instagram, Youtube, Twitter, Facebook and Televisions. In a previous time, between 1960 till 1990, users just depended on cinema, and telivision. But today, we can watch movies using Netflix and see the promo videos on any type of the previously mentioned social media accounts."
   ]
  },
  {
   "cell_type": "markdown",
   "metadata": {},
   "source": [
    "<a id='conclusions'></a>\n",
    "## Conclusions"
   ]
  },
  {
   "cell_type": "markdown",
   "metadata": {},
   "source": [
    "> **As per the analysis phase, I have found**\n",
    "\n",
    "**Trend of releasing movies has increased over the years. **\n",
    "\n",
    "**Frequent Runtimes are from 92 sec to 150 sec**\n",
    "\n",
    "**Drama,Action,Thriller,Romance,Horror are most popular geners**\n",
    "\n",
    "**By popularity Score**\n",
    "\n",
    "> Most Popular Movie is Jurrassic World\n",
    "\n",
    "> Most Famous Genre is Drama\n",
    "\n",
    "**Highest gross Profit earned**\n",
    "\n",
    ">**Director** Steven Spielberg \n",
    "\n",
    ">**Movie** Star Wars\n",
    "\n",
    ">**Cast** Harrison Ford\n",
    "\n",
    ">**Production Company** Twentieth Century Fox Film Corporation\n",
    "\n",
    "**By Average Votes**\n",
    "\n",
    ">**Popular Movie** The Jinx:The Life and Deaths of Robert Durst\n",
    "\n",
    ">**Popular Cast** Tina Weymouth\n",
    "\n",
    "**We can find that the results of popular movies,popular cast based on popularity score,budget,revenue,average votes received but the analysis could have been more informative if data also has details of awards received by actors or actress**\n",
    "\n",
    "**Tagline & overview of movies are important to understand how movies emotion changes according to genres**\n",
    "\n",
    "**Data doesn't contain any information such as movies recommended for kids,providing this data could have been useful to get information about movies,cast & genres which are famous among kids.**\n",
    "\n",
    "**TMDB movies dataset given to me was of 10886 rows in total but it contained lot of missing values & some movies runtime values,budget,revenue was zero, so i deleted such rows after going through a set of data preprocessing steps. The remaining data after the preprocessing step are of 7028 rows that means I lost apprx 3000 rows which had been used in my invistigation to achieve all these findings.** "
   ]
  }
 ],
 "metadata": {
  "kernelspec": {
   "display_name": "Python 3",
   "language": "python",
   "name": "python3"
  },
  "language_info": {
   "codemirror_mode": {
    "name": "ipython",
    "version": 3
   },
   "file_extension": ".py",
   "mimetype": "text/x-python",
   "name": "python",
   "nbconvert_exporter": "python",
   "pygments_lexer": "ipython3",
   "version": "3.8.3"
  }
 },
 "nbformat": 4,
 "nbformat_minor": 2
}
